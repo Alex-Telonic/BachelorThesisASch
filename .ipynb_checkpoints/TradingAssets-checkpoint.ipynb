{
 "cells": [
  {
   "cell_type": "markdown",
   "metadata": {
    "collapsed": true
   },
   "source": [
    "Import Data"
   ]
  },
  {
   "cell_type": "code",
   "execution_count": 12,
   "metadata": {},
   "outputs": [
    {
     "ename": "AttributeError",
     "evalue": "module 'pandas' has no attribute 'compat'",
     "output_type": "error",
     "traceback": [
      "\u001b[1;31m---------------------------------------------------------------------------\u001b[0m",
      "\u001b[1;31mAttributeError\u001b[0m                            Traceback (most recent call last)",
      "\u001b[1;32m<ipython-input-12-95084383610d>\u001b[0m in \u001b[0;36m<module>\u001b[1;34m\u001b[0m\n\u001b[1;32m----> 1\u001b[1;33m \u001b[1;32mimport\u001b[0m \u001b[0mpandas\u001b[0m \u001b[1;32mas\u001b[0m \u001b[0mpd\u001b[0m\u001b[1;33m\u001b[0m\u001b[1;33m\u001b[0m\u001b[0m\n\u001b[0m\u001b[0;32m      2\u001b[0m \u001b[1;32mimport\u001b[0m \u001b[0mmatplotlib\u001b[0m\u001b[1;33m.\u001b[0m\u001b[0mpyplot\u001b[0m \u001b[1;32mas\u001b[0m \u001b[0mplt\u001b[0m\u001b[1;33m\u001b[0m\u001b[1;33m\u001b[0m\u001b[0m\n\u001b[0;32m      3\u001b[0m \u001b[1;33m\u001b[0m\u001b[0m\n\u001b[0;32m      4\u001b[0m \u001b[0mdata\u001b[0m \u001b[1;33m=\u001b[0m \u001b[0mpd\u001b[0m\u001b[1;33m.\u001b[0m\u001b[0mread_stata\u001b[0m\u001b[1;33m(\u001b[0m\u001b[1;34m\"callreports_final.dta\"\u001b[0m\u001b[1;33m,\u001b[0m \u001b[0mchunksize\u001b[0m\u001b[1;33m=\u001b[0m\u001b[1;36m100000\u001b[0m\u001b[1;33m,\u001b[0m \u001b[0mpreserve_dtypes\u001b[0m\u001b[1;33m=\u001b[0m\u001b[1;32mTrue\u001b[0m\u001b[1;33m)\u001b[0m\u001b[1;33m\u001b[0m\u001b[1;33m\u001b[0m\u001b[0m\n\u001b[0;32m      5\u001b[0m \u001b[1;33m\u001b[0m\u001b[0m\n",
      "\u001b[1;32mC:\\ProgramData\\Anaconda3\\lib\\site-packages\\pandas\\__init__.py\u001b[0m in \u001b[0;36m<module>\u001b[1;34m\u001b[0m\n\u001b[0;32m    194\u001b[0m \u001b[1;31m# GH 27101\u001b[0m\u001b[1;33m\u001b[0m\u001b[1;33m\u001b[0m\u001b[1;33m\u001b[0m\u001b[0m\n\u001b[0;32m    195\u001b[0m \u001b[1;31m# TODO: remove Panel compat in 1.0\u001b[0m\u001b[1;33m\u001b[0m\u001b[1;33m\u001b[0m\u001b[1;33m\u001b[0m\u001b[0m\n\u001b[1;32m--> 196\u001b[1;33m \u001b[1;32mif\u001b[0m \u001b[0mpandas\u001b[0m\u001b[1;33m.\u001b[0m\u001b[0mcompat\u001b[0m\u001b[1;33m.\u001b[0m\u001b[0mPY37\u001b[0m\u001b[1;33m:\u001b[0m\u001b[1;33m\u001b[0m\u001b[1;33m\u001b[0m\u001b[0m\n\u001b[0m\u001b[0;32m    197\u001b[0m \u001b[1;33m\u001b[0m\u001b[0m\n\u001b[0;32m    198\u001b[0m     \u001b[1;32mdef\u001b[0m \u001b[0m__getattr__\u001b[0m\u001b[1;33m(\u001b[0m\u001b[0mname\u001b[0m\u001b[1;33m)\u001b[0m\u001b[1;33m:\u001b[0m\u001b[1;33m\u001b[0m\u001b[1;33m\u001b[0m\u001b[0m\n",
      "\u001b[1;31mAttributeError\u001b[0m: module 'pandas' has no attribute 'compat'"
     ]
    }
   ],
   "source": [
    "import pandas as pd\n",
    "import matplotlib.pyplot as plt\n",
    "\n",
    "data = pd.read_stata(\"callreports_final.dta\", chunksize=100000, preserve_dtypes=True)\n",
    "df_raw = pd.DataFrame()\n",
    "\n",
    "for chunk in data:\n",
    "    df_raw=df_raw.append(chunk)"
   ]
  },
  {
   "cell_type": "code",
   "execution_count": null,
   "metadata": {},
   "outputs": [],
   "source": [
    "import numpy as np\n",
    "pd.set_option('mode.chained_assignment', None)\n",
    "pd.set_option('display.max_rows', 500)\n",
    "pd.set_option('display.max_columns', 500)\n",
    "pd.set_option('display.width', 1000)\n",
    "%matplotlib inline"
   ]
  },
  {
   "cell_type": "code",
   "execution_count": null,
   "metadata": {},
   "outputs": [],
   "source": [
    "df = df_raw.copy()\n",
    "df[\"rssdid\"] = df[\"rssdid\"].astype(int)\n",
    "#df.rssdid.max()\n",
    "df[[\"rssdid\", \"year\", \"date\", \"assets\"]].describe().apply(lambda s: s.apply(lambda x: format(x, 'g')))\n",
    "#df_raw[(df_raw.rssdid==37.0) & (df_raw.quarter==4)][[\"year\", \"tradingassets\"]]\n",
    "df.info()\n",
    "df.rssdid.value_counts()"
   ]
  },
  {
   "cell_type": "code",
   "execution_count": null,
   "metadata": {
    "scrolled": true
   },
   "outputs": [],
   "source": [
    "df_raw[\"tradingassets\"].describe().apply(lambda x: format(x, 'f'))\n",
    "banksWithTradingAssets = df_raw[(df_raw.tradingassets!=0) & (df_raw.tradingassets.notnull()) & (df_raw.quarter==4)][[\"rssdid\",\"year\", \"tradingassets\"]]\n",
    "uniqueRSSDID = banksWithTradingAssets.rssdid.unique()\n",
    "banksWithTradingAssets.head(100)"
   ]
  },
  {
   "cell_type": "code",
   "execution_count": null,
   "metadata": {
    "scrolled": false
   },
   "outputs": [],
   "source": [
    "temp_df= df_raw[(df_raw.rssdid==12311.0) & (df_raw.tradingassets!=0) & (df_raw.tradingassets.notnull()) & ((df_raw.quarter==4))]\n",
    "#print(temp_df)\n",
    "first_row = temp_df[temp_df.year==2010]\n",
    "print(\"Sum: \",first_row.assets)\n",
    "#print(\"Single\",first_row.liabilities)\n",
    "sum = first_row.equity + first_row.liabilities\n",
    "print(\"Difference\", sum)\n",
    "for (columnName, columnData) in first_row.iteritems():\n",
    "    if(columnData.iloc[0]==597539.0):\n",
    "        print(\"///////\",columnName)"
   ]
  },
  {
   "cell_type": "code",
   "execution_count": null,
   "metadata": {
    "scrolled": true
   },
   "outputs": [],
   "source": [
    "df_raw[(df_raw.rssdid==3850.0) & (df_raw.tradingassets!=0) & (df_raw.tradingassets.notnull())]"
   ]
  },
  {
   "cell_type": "code",
   "execution_count": null,
   "metadata": {},
   "outputs": [],
   "source": [
    "df_allyears = df_raw.loc[df[\"quarter\"]==4]\n",
    "year = 1978\n",
    "arrayAggTradingAssets = []\n",
    "arrayAggAssets = []\n",
    "\n",
    "for i in range(36):\n",
    "    temp_df = df_allyears.copy()\n",
    "    temp_df = temp_df[(temp_df[\"year\"]==year)]\n",
    "    sumTradingAssets = temp_df.tradingassets.sum()\n",
    "    sumAssets = temp_df.qavgassets.sum()\n",
    "    arrayAggTradingAssets.append(sumTradingAssets)\n",
    "    arrayAggAssets.append(sumAssets)\n",
    "    year = year + 1\n",
    "\n",
    "#print(arrayAggEquity)\n",
    "#print(arrayAggAssets)\n",
    "years = [str(year) for year in range(1978, 2014)]\n",
    "d1 = {\"TradingAssets\" : arrayAggTradingAssets, \"Assets\": arrayAggAssets}\n",
    "temp_df = pd.DataFrame(data=d1, index=years)\n",
    "fig, ax = plt.subplots()\n",
    "fig.suptitle(\"Aggregate Trading Assets to Equity\")\n",
    "ax.set_ylabel(\"Aggregate Trading Assets\")\n",
    "ax.set_xlabel(\"year\")\n",
    "ax2 = ax.twinx()\n",
    "ax2.set_ylabel(\"Aggregate assets\")\n",
    "line1 = temp_df.TradingAssets.plot(ax=ax, style=\"b-\")\n",
    "line1 = temp_df.TradingAssets.plot(ax=ax, style=\"oy\")\n",
    "line2 = temp_df.Assets.plot(ax=ax2, style=\"g-\")\n",
    "line2 = temp_df.Assets.plot(ax=ax2, style=\"oy\")\n",
    "#ax.set_xticklabels(temp_df.index, rotation=60)\n",
    "ax.legend([\"Assets\"])\n",
    "ax2.legend([\"Trading Assets\"])\n",
    "ax.legend([\"Assets\"], loc=(0.01, 0.9))\n",
    "ax2.legend([\"Trading Assets\"], ncol=2 ,loc=(0.01, 0.8))"
   ]
  },
  {
   "cell_type": "code",
   "execution_count": null,
   "metadata": {},
   "outputs": [],
   "source": [
    "fig, ax = plt.subplots()\n",
    "ax.set_xticklabels(temp_df.index, rotation=60)\n",
    "ax.plot(temp_df.TradingAssets, \"oy\", temp_df.TradingAssets, \"\" ,  temp_df.Assets, \"oy\")"
   ]
  },
  {
   "cell_type": "code",
   "execution_count": 4,
   "metadata": {},
   "outputs": [
    {
     "ename": "NameError",
     "evalue": "name 'np' is not defined",
     "output_type": "error",
     "traceback": [
      "\u001b[1;31m---------------------------------------------------------------------------\u001b[0m",
      "\u001b[1;31mNameError\u001b[0m                                 Traceback (most recent call last)",
      "\u001b[1;32m<ipython-input-4-62c06f6d7d7c>\u001b[0m in \u001b[0;36m<module>\u001b[1;34m\u001b[0m\n\u001b[1;32m----> 1\u001b[1;33m \u001b[0mx\u001b[0m \u001b[1;33m=\u001b[0m \u001b[0mnp\u001b[0m\u001b[1;33m.\u001b[0m\u001b[0marange\u001b[0m\u001b[1;33m(\u001b[0m\u001b[0mlen\u001b[0m\u001b[1;33m(\u001b[0m\u001b[0mtemp_df\u001b[0m\u001b[1;33m.\u001b[0m\u001b[0mindex\u001b[0m\u001b[1;33m)\u001b[0m\u001b[1;33m)\u001b[0m\u001b[1;33m\u001b[0m\u001b[1;33m\u001b[0m\u001b[0m\n\u001b[0m\u001b[0;32m      2\u001b[0m \u001b[0mwidth\u001b[0m \u001b[1;33m=\u001b[0m \u001b[1;36m0.35\u001b[0m\u001b[1;33m\u001b[0m\u001b[1;33m\u001b[0m\u001b[0m\n\u001b[0;32m      3\u001b[0m \u001b[1;31m#temp_df.TradingAssets = temp_df.TradingAssets/10\u001b[0m\u001b[1;33m\u001b[0m\u001b[1;33m\u001b[0m\u001b[1;33m\u001b[0m\u001b[0m\n\u001b[0;32m      4\u001b[0m \u001b[0mfig\u001b[0m\u001b[1;33m,\u001b[0m \u001b[0max\u001b[0m \u001b[1;33m=\u001b[0m \u001b[0mplt\u001b[0m\u001b[1;33m.\u001b[0m\u001b[0msubplots\u001b[0m\u001b[1;33m(\u001b[0m\u001b[0mfigsize\u001b[0m\u001b[1;33m=\u001b[0m\u001b[1;33m(\u001b[0m\u001b[1;36m15\u001b[0m\u001b[1;33m,\u001b[0m\u001b[1;36m5\u001b[0m\u001b[1;33m)\u001b[0m\u001b[1;33m)\u001b[0m\u001b[1;33m\u001b[0m\u001b[1;33m\u001b[0m\u001b[0m\n\u001b[0;32m      5\u001b[0m \u001b[1;31m#ax2 = ax.twinx()\u001b[0m\u001b[1;33m\u001b[0m\u001b[1;33m\u001b[0m\u001b[1;33m\u001b[0m\u001b[0m\n",
      "\u001b[1;31mNameError\u001b[0m: name 'np' is not defined"
     ]
    }
   ],
   "source": [
    "x = np.arange(len(temp_df.index))\n",
    "width = 0.35\n",
    "#temp_df.TradingAssets = temp_df.TradingAssets/10\n",
    "fig, ax = plt.subplots(figsize=(15,5))\n",
    "#ax2 = ax.twinx()\n",
    "ax.set_xticks(x)\n",
    "ax.set_xticklabels(temp_df.index, rotation=60)\n",
    "ax.bar(x - width/2, temp_df.Assets, width, label='Assets', color=\"g\")\n",
    "ax.bar(x + width/2, temp_df.TradingAssets, width, label=\"Trading Assets\")"
   ]
  },
  {
   "cell_type": "markdown",
   "metadata": {},
   "source": [
    "Ratio of trading assets towards assets. It has risen over time. The share of trading assets has risen.Glass-Steagal Act im Jahre 1999 aufgehoben."
   ]
  },
  {
   "cell_type": "code",
   "execution_count": null,
   "metadata": {
    "scrolled": true
   },
   "outputs": [],
   "source": [
    "temp_df[\"Difference\"] = temp_df.Assets-temp_df.TradingAssets\n",
    "temp_df[\"Ratio\"] = temp_df.TradingAssets/temp_df.Assets\n",
    "fig, ax = plt.subplots(figsize=(15,5))\n",
    "ax.set_xticklabels(temp_df.index, rotation=60)\n",
    "ax.plot(temp_df.Ratio)\n",
    "#print(type(temp_df))"
   ]
  },
  {
   "cell_type": "code",
   "execution_count": null,
   "metadata": {},
   "outputs": [],
   "source": [
    "from datetime import date\n",
    "x = date(2019, 12, 24)\n",
    "print(x.weekday())"
   ]
  }
 ],
 "metadata": {
  "kernelspec": {
   "display_name": "Python 3",
   "language": "python",
   "name": "python3"
  },
  "language_info": {
   "codemirror_mode": {
    "name": "ipython",
    "version": 3
   },
   "file_extension": ".py",
   "mimetype": "text/x-python",
   "name": "python",
   "nbconvert_exporter": "python",
   "pygments_lexer": "ipython3",
   "version": "3.7.4"
  }
 },
 "nbformat": 4,
 "nbformat_minor": 2
}
