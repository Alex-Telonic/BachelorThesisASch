{
 "cells": [
  {
   "cell_type": "code",
   "execution_count": null,
   "metadata": {},
   "outputs": [],
   "source": [
    "Import Data"
   ]
  },
  {
   "cell_type": "code",
   "execution_count": null,
   "metadata": {},
   "outputs": [],
   "source": [
    "import pandas as pd\n",
    "import matplotlib.pyplot as plt\n",
    "import matplotlib as mlt\n",
    "\n",
    "data = pd.read_stata(\"callreports_final.dta\", chunksize=100000, preserve_dtypes=True)\n",
    "\n",
    "df_old = pd.DataFrame()\n",
    "\n",
    "for chunk in data:\n",
    "    df_old=df_old.append(chunk)"
   ]
  },
  {
   "cell_type": "code",
   "execution_count": null,
   "metadata": {},
   "outputs": [],
   "source": [
    "df_2014_2019 = pd.read_csv(r\"C:\\Users\\AlexanderSchlechter\\Google Drive\\Bachelorarbeit\\16.01.2020\\BachelorThesisASch\\AdditionalData\\df_2014-2019\", \n",
    "                           index_col=0)\n",
    "\n",
    "#concat two imported dataframes\n",
    "df_raw = pd.concat([df_2014_2019, df_old])"
   ]
  },
  {
   "cell_type": "code",
   "execution_count": null,
   "metadata": {},
   "outputs": [],
   "source": [
    "Additional Settings"
   ]
  },
  {
   "cell_type": "code",
   "execution_count": null,
   "metadata": {},
   "outputs": [],
   "source": [
    "%matplotlib inline\n",
    "import numpy as np\n",
    "import seaborn as sns\n",
    "import statsmodels.api as sm\n",
    "from matplotlib.ticker import (MultipleLocator, FormatStrFormatter,\n",
    "                               AutoMinorLocator)\n",
    "from matplotlib import ticker\n",
    "import matplotlib.patches as mpatches\n",
    "\n",
    "pd.set_option('mode.chained_assignment', None)\n",
    "pd.set_option('display.max_rows', 500)\n",
    "pd.set_option('display.max_columns', 500)\n",
    "pd.set_option('display.width', 1000)\n",
    "\n",
    "SMALL_SIZE = 8\n",
    "MEDIUM_SIZE = 10\n",
    "BIGGER_SIZE = 18\n",
    "\n",
    "#setting matplotlib style\n",
    "plt.style.use('default')\n",
    "\n",
    "#setting params for matplolib plots\n",
    "plt.rcParams['font.size']=BIGGER_SIZE          # controls default text sizes\n",
    "plt.rcParams['axes.titlesize']=BIGGER_SIZE     # fontsize of the axes title\n",
    "plt.rcParams['axes.labelsize']=BIGGER_SIZE    # fontsize of the x and y labels\n",
    "plt.rcParams['xtick.labelsize']=BIGGER_SIZE    # fontsize of the tick labels\n",
    "plt.rcParams['ytick.labelsize']=BIGGER_SIZE    # fontsize of the tick labels\n",
    "plt.rcParams['legend.fontsize']=BIGGER_SIZE    # legend fontsize\n",
    "plt.rcParams['figure.titlesize']=BIGGER_SIZE  # fontsize of the figure title\n",
    "plt.rcParams['xtick.bottom']=True  # fontsize of the figure title\n",
    "plt.rcParams['xtick.major.bottom']=True  # fontsize of the figure title\n",
    "plt.rcParams['xtick.major.size']=3.5  # fontsize of the figure title\n",
    "#plt.rcParams['xtick.major.width']=1  # fontsize of the figure title\n",
    "plt.rcParams['xtick.major.top']=False  # fontsize of the figure title\n",
    "plt.rcParams['xtick.minor.bottom']=True  # fontsize of the figure title\n",
    "plt.rcParams['xtick.minor.size']=3  # fontsize of the figure title\n",
    "#plt.rcParams['legend.fontsize'] = 22\n",
    "\n",
    "#setting grid style\n",
    "plt.rcParams['grid.color'] = 'k'\n",
    "plt.rcParams['grid.linestyle'] = ':'\n",
    "plt.rcParams['grid.linewidth'] = 0.5\n",
    "\n",
    "\n"
   ]
  },
  {
   "cell_type": "markdown",
   "metadata": {},
   "source": [
    "Structural adjustments on dataset"
   ]
  },
  {
   "cell_type": "code",
   "execution_count": null,
   "metadata": {},
   "outputs": [],
   "source": [
    "#removing investment banks Goldman Sachs and Morgan Stanley\n",
    "df_raw = df_raw[(df_raw.rssdid!=1456501) & (df_raw.bhcid!=2380443)]"
   ]
  },
  {
   "cell_type": "markdown",
   "metadata": {},
   "source": [
    "Timeseries labels for xaxis "
   ]
  },
  {
   "cell_type": "code",
   "execution_count": null,
   "metadata": {},
   "outputs": [],
   "source": [
    "years = [str(year) for year in range(1976, 2020)]\n",
    "\n",
    "years16 = [str(year) for year in range(1976, 2014, 4)]"
   ]
  },
  {
   "cell_type": "code",
   "execution_count": null,
   "metadata": {},
   "outputs": [],
   "source": [
    "def plot_crisis(ax):\n",
    "    #1980 crisis\n",
    "    ax.axvspan(16, 19, alpha=0.5, color='red')\n",
    "\n",
    "\n",
    "    #1981Q3-1982Q4 crisis\n",
    "    ax.axvspan(22, 27, alpha=0.5, color='red')\n",
    "\n",
    "    #1990Q3-1991Q2 crisis\n",
    "    ax.axvspan(58, 61, alpha=0.5, color='red')\n",
    "\n",
    "    #2001Q2-2001Q4 crisis\n",
    "    ax.axvspan(101, 103, alpha=0.5, color='red')\n",
    "\n",
    "    #2007Q4-2009Q3 crisis\n",
    "    ax.axvspan(127, 134, alpha=0.5, color='red')"
   ]
  },
  {
   "cell_type": "markdown",
   "metadata": {},
   "source": [
    "Analysing asset side & liability side"
   ]
  },
  {
   "cell_type": "code",
   "execution_count": null,
   "metadata": {},
   "outputs": [],
   "source": [
    "#getting relevant data\n",
    "df_assets = df_raw[[\"rssdid\",\"bhcid\",  \"name\", 'year', \"quarter\",\"assets\", \"cash\"\n",
    "             ,\"fedfundsrepoasset\" ,\"securities\",\"loansnet\", \"tradingassets\"]]\n",
    "\n",
    "df_liab = df_raw[[\"rssdid\", \"name\", 'year', \"quarter\",\"assets\", \"equity\",\"fedfundsrepoliab\" ,\n",
    "             \"deposits\",\"foreigndep\", \"otherborrowedmoney\", \"tradingliabilities\",\"subordinateddebt\", \"liabilities\"]]\n",
    "\n",
    "#aggregate data by year and quarter\n",
    "df_agg = df_assets.groupby([\"year\", \"quarter\"]).sum()\n",
    "df_agg_liab = df_liab.groupby([\"year\", \"quarter\"]).sum()\n",
    "\n",
    "#reset index\n",
    "df_agg =df_agg.reset_index()\n",
    "df_agg_liab =df_agg_liab.reset_index()\n",
    "\n",
    "#clean fedfundsrepoasset by putting average for null value\n",
    "average = (df_agg.loc[103].fedfundsrepoasset + df_agg.loc[105].fedfundsrepoasset) / 2\n",
    "df_agg.loc[104].fedfundsrepoasset = average\n",
    "\n",
    "#computing other assets and other liabilities\n",
    "df_agg[\"otherassets\"] = df_agg[\"assets\"] - (df_agg.iloc[:,5:10].sum(axis=1))\n",
    "df_agg[\"otherliab\"] = df_agg_liab[\"assets\"] - (df_agg_liab.iloc[:,4:11].sum(axis=1))\n",
    "df_agg_liab[\"otherliab\"] = df_agg_liab[\"assets\"] - (df_agg_liab.iloc[:,4:11].sum(axis=1))\n",
    "\n",
    "#clean dataframe of nan, inf and zeros\n",
    "\n",
    "\n",
    "#getting right yscale\n",
    "df_agg_scaled = df_agg/1000000000\n",
    "\n",
    "#remove liabilities, its unnessesary\n",
    "df_agg_liab.drop([\"liabilities\"], axis=1 , inplace=True)\n",
    "\n",
    "#log liabilities\n",
    "df_agg_liab_log = np.log(df_agg_liab.iloc[:,3:])\n",
    "df_agg_liab_log = pd.concat([df_agg_liab.iloc[:,:3],df_agg_liab_log], axis=1)\n",
    "df_agg_liab"
   ]
  },
  {
   "cell_type": "code",
   "execution_count": null,
   "metadata": {},
   "outputs": [],
   "source": [
    "fig = plt.figure(figsize=(20,15))\n",
    "\n",
    "#ax_twin = ax[1].twinx()\n",
    "\n",
    "ax = fig.add_subplot(311)\n",
    "\n",
    "#graph: absolute assets\n",
    "ax.set_ylabel(\"Trillions Dollar\")\n",
    "df_agg_scaled.plot.area(ax=ax, y=[\"cash\",\"fedfundsrepoasset\" ,\"securities\",\n",
    "                           \"loansnet\", \"tradingassets\", \"otherassets\"])\n",
    "ax.set_xticks(range(0,176,4))\n",
    "ax.xaxis.set_minor_locator(AutoMinorLocator(4))\n",
    "ax.set_xticklabels(years, rotation=60)\n",
    "#ax.set_xlim(0, 151)\n",
    "ax.legend()\n",
    "ax.grid()\n",
    "\n",
    "#ax.yaxis.set_major_formatter(mlt.ticker.StrMethodFormatter(\"{x:g}\")) \n",
    "\n",
    "#graph: log(assets)\n",
    "df_agg_log = np.log(df_agg_scaled)\n",
    "ax1 = fig.add_subplot(312)\n",
    "ax1.set_xticks(range(0,176,4))\n",
    "ax1.xaxis.set_minor_locator(AutoMinorLocator(4))\n",
    "df_agg_log.assets.plot(ax=ax1, color=\"C0\")\n",
    "ax1.set_xticklabels(years, rotation=60)\n",
    "ax1.set_ylabel(\"log(assets)\")\n",
    "ax1.legend([\"log(assets)\"])\n",
    "ax1.grid()\n",
    "#ax1.set_xlim(0, 151)\n",
    "\n",
    "\n",
    "\n",
    "#graph: cyclical of log(assets)\n",
    "ax3 = fig.add_subplot(313)\n",
    "cycle, trend = sm.tsa.filters.hpfilter(df_agg_log.assets, 1600)\n",
    "df_agg_log[\"cycle\"] = cycle\n",
    "df_agg_log.cycle.plot(ax=ax3)\n",
    "\n",
    "ax3.set_ylabel(\"log(assets)\")\n",
    "ax3.axhline(color=\"black\")\n",
    "ax3.set_xticks(range(0,176,4))\n",
    "ax3.xaxis.set_minor_locator(AutoMinorLocator(4))\n",
    "ax3.set_xticklabels(years, rotation=60)\n",
    "red_patch = mpatches.Patch(color='red',alpha=0.5)\n",
    "red_patch1 = mpatches.Patch(color='C0', lw=0.2)\n",
    "ax3.legend(handles=[red_patch, red_patch1], labels=[\"crisis\", \"detrended log(assets)\"])\n",
    "\n",
    "\n",
    "#ax3.legend()\n",
    "#ax3.legend([\"cycle:log(assets)\", \"crisis\", \"crisis\"])\n",
    "ax3.grid()\n",
    "\n",
    "'''\n",
    "#1980 crisis\n",
    "ax3.axvspan(16, 19, alpha=0.5, color='red')\n",
    "#ax3.annotate(\"crisis\", xy=(16,0.05), xytext=(8,0.06), \n",
    "#arrowprops=dict(facecolor='black', shrink=0.05))\n",
    "\n",
    "\n",
    "#1981Q3-1982Q4 crisis\n",
    "ax3.axvspan(22, 27, alpha=0.5, color='red')\n",
    "\n",
    "#1990Q3-1991Q2 crisis\n",
    "ax3.axvspan(58, 61, alpha=0.5, color='red')\n",
    "\n",
    "#2001Q2-2001Q4 crisis\n",
    "ax3.axvspan(101, 103, alpha=0.5, color='red')\n",
    "\n",
    "#2007Q4-2009Q3 crisis\n",
    "ax3.axvspan(127, 134, alpha=0.5, color='red')\n",
    "'''\n",
    "plot_crisis(ax3)\n",
    "\n",
    "#plot twin axis for second graph\n",
    "ax_twin = ax1.twinx()\n",
    "ax_twin.plot(df_agg_scaled.assets, \"y\")\n",
    "\n",
    "ax_twin.legend([\"assets\"], loc=[0.008, 0.72])\n",
    "ax_twin.set_ylabel(\"Trillions Dollar\")\n",
    "\n",
    "\n",
    "plt.tight_layout()\n",
    "\n",
    "plt.savefig('LatexVorlage/graphs/DescriptiveStats/OtherAnalysis_clean_AssetDistribution_7613.png')"
   ]
  },
  {
   "cell_type": "code",
   "execution_count": null,
   "metadata": {},
   "outputs": [],
   "source": []
  },
  {
   "cell_type": "code",
   "execution_count": null,
   "metadata": {},
   "outputs": [],
   "source": []
  }
 ],
 "metadata": {
  "kernelspec": {
   "display_name": "Python 3",
   "language": "python",
   "name": "python3"
  },
  "language_info": {
   "codemirror_mode": {
    "name": "ipython",
    "version": 3
   },
   "file_extension": ".py",
   "mimetype": "text/x-python",
   "name": "python",
   "nbconvert_exporter": "python",
   "pygments_lexer": "ipython3",
   "version": "3.7.4"
  }
 },
 "nbformat": 4,
 "nbformat_minor": 4
}
