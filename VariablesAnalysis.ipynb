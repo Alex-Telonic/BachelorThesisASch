{
 "cells": [
  {
   "cell_type": "code",
   "execution_count": 18,
   "metadata": {
    "collapsed": true
   },
   "outputs": [],
   "source": [
    "import pandas as pd\n",
    "import matplotlib.pyplot as plt\n",
    "import numpy as np\n",
    "import seaborn as sns\n",
    "\n",
    "data = pd.read_stata(\"callreports_final.dta\", chunksize=100000, preserve_dtypes=True)\n",
    "\n",
    "df_raw = pd.DataFrame()\n",
    "\n",
    "for chunk in data:\n",
    "    df_raw=df_raw.append(chunk)"
   ]
  },
  {
   "cell_type": "code",
   "execution_count": 3,
   "metadata": {
    "collapsed": true
   },
   "outputs": [],
   "source": [
    "pd.set_option('mode.chained_assignment', None)\n",
    "pd.set_option('display.max_rows', 500)\n",
    "pd.set_option('display.max_columns', 500)\n",
    "pd.set_option('display.width', 1000)\n",
    "%matplotlib inline"
   ]
  },
  {
   "cell_type": "code",
   "execution_count": 16,
   "metadata": {},
   "outputs": [
    {
     "name": "stdout",
     "output_type": "stream",
     "text": [
      "<class 'numpy.ndarray'>\n"
     ]
    }
   ],
   "source": [
    "print(type(df_raw.columns.values))\n",
    "#df_raw.head(20)"
   ]
  },
  {
   "cell_type": "code",
   "execution_count": 14,
   "metadata": {},
   "outputs": [
    {
     "data": {
      "text/plain": [
       "'\\nimport win32clipboard as clipboard\\n\\ndef toClipboardForExcel(array):\\n    \"\"\"\\n    Copies an array into a string format acceptable by Excel.\\n    Columns separated by \\t, rows separated by \\n\\n    \"\"\"\\n    # Create string from array\\n    line_strings = []\\n    for line in array:\\n        #print(line)\\n        line_strings.append(line)\\n        #print(line_strings)\\n    array_string = \"\\r\\n\".join(line_strings)\\n    # Put string into clipboard (open, clear, set, close)\\n    clipboard.OpenClipboard()\\n    clipboard.EmptyClipboard()\\n    clipboard.SetClipboardText(array_string)\\n    clipboard.CloseClipboard()\\n\\ntoClipboardForExcel(df_raw.columns.values)\\n'"
      ]
     },
     "execution_count": 14,
     "metadata": {},
     "output_type": "execute_result"
    }
   ],
   "source": [
    "'''\n",
    "import win32clipboard as clipboard\n",
    "\n",
    "def toClipboardForExcel(array):\n",
    "    \"\"\"\n",
    "    Copies an array into a string format acceptable by Excel.\n",
    "    Columns separated by \\t, rows separated by \\n\n",
    "    \"\"\"\n",
    "    # Create string from array\n",
    "    line_strings = []\n",
    "    for line in array:\n",
    "        #print(line)\n",
    "        line_strings.append(line)\n",
    "        #print(line_strings)\n",
    "    array_string = \"\\r\\n\".join(line_strings)\n",
    "    # Put string into clipboard (open, clear, set, close)\n",
    "    clipboard.OpenClipboard()\n",
    "    clipboard.EmptyClipboard()\n",
    "    clipboard.SetClipboardText(array_string)\n",
    "    clipboard.CloseClipboard()\n",
    "\n",
    "toClipboardForExcel(df_raw.columns.values)\n",
    "'''"
   ]
  },
  {
   "cell_type": "code",
   "execution_count": 27,
   "metadata": {},
   "outputs": [
    {
     "data": {
      "text/plain": [
       "'\\nprint(\"Sum: \",first_row.securities)\\nprint(\"Single\",first_row.tradingassets)\\nprint(\"Sum\", first_row.transdep+first_row.brokereddep+first_row.timesavdep)\\nprint(\"Single\",first_row.deposits)\\n'"
      ]
     },
     "execution_count": 27,
     "metadata": {},
     "output_type": "execute_result"
    }
   ],
   "source": [
    "df_raw[(df_raw.rssdid==354.0) & (df_raw.tradingassets!=0) & (df_raw.tradingassets.notnull())]\n",
    "\n",
    "#first_row = df_raw.iloc[1,:]\n",
    "#print(\"Securities:\", first_row.securities)\n",
    "#print(\"Securities Sum:\", first_row.securities_ammcost\n",
    "#+securitiesavailableforsale)\n",
    "#print(df_raw.date.max())\n",
    "#print(df_raw.date.min())\n",
    "\n",
    "'''\n",
    "print(\"Sum: \",first_row.securities)\n",
    "print(\"Single\",first_row.tradingassets)\n",
    "print(\"Sum\", first_row.transdep+first_row.brokereddep+first_row.timesavdep)\n",
    "print(\"Single\",first_row.deposits)\n",
    "'''\n"
   ]
  }
 ],
 "metadata": {
  "kernelspec": {
   "display_name": "Python 3",
   "language": "python",
   "name": "python3"
  },
  "language_info": {
   "codemirror_mode": {
    "name": "ipython",
    "version": 3
   },
   "file_extension": ".py",
   "mimetype": "text/x-python",
   "name": "python",
   "nbconvert_exporter": "python",
   "pygments_lexer": "ipython3",
   "version": "3.6.3"
  }
 },
 "nbformat": 4,
 "nbformat_minor": 2
}
