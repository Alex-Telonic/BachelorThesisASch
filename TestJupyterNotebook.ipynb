{
 "cells": [
  {
   "cell_type": "code",
   "execution_count": 1,
   "metadata": {},
   "outputs": [
    {
     "name": "stdout",
     "output_type": "stream",
     "text": [
      "   rssdid  chartertype     cert  bhcid        date               name  assets  \\\n",
      "0    28.0        200.0  26606.0    0.0  19860331.0  FIRST ATLANTIC BK  2779.0   \n",
      "1    28.0        200.0  26606.0    0.0  19860630.0  FIRST ATLANTIC BK  4322.0   \n",
      "2    28.0        200.0  26606.0    0.0  19860930.0  FIRST ATLANTIC BK  5118.0   \n",
      "3    28.0        200.0  26606.0    0.0  19861231.0  FIRST ATLANTIC BK  5742.0   \n",
      "4    28.0        200.0  26606.0    0.0  19870331.0  FIRST ATLANTIC BK  7737.0   \n",
      "\n",
      "   reloans    cash  persloans  ...  intincforloans  intincleases  \\\n",
      "0      0.0  1395.0       23.0  ...             NaN           0.0   \n",
      "1    808.0   153.0      820.0  ...             NaN           0.0   \n",
      "2   1406.0   601.0     1063.0  ...             NaN           0.0   \n",
      "3   1701.0   292.0      995.0  ...             NaN           0.0   \n",
      "4   2451.0   701.0     1179.0  ...             NaN           0.0   \n",
      "\n",
      "   intincassets  intexptransdep  intexpsavdep  intexpfordep  \\\n",
      "0          22.0             NaN           NaN           0.0   \n",
      "1          72.0             NaN           NaN           0.0   \n",
      "2         100.0             NaN           NaN           0.0   \n",
      "3         111.0             NaN           NaN           0.0   \n",
      "4         134.0            11.0          16.0           0.0   \n",
      "\n",
      "   intexpfedfundsrepoliab  intincpersloans  intincreloans  \\\n",
      "0                     0.0              NaN            NaN   \n",
      "1                     0.0              NaN            NaN   \n",
      "2                     0.0              NaN            NaN   \n",
      "3                     0.0              NaN            NaN   \n",
      "4                     0.0              NaN            NaN   \n",
      "\n",
      "   dividendoncommonstock  \n",
      "0                    NaN  \n",
      "1                    NaN  \n",
      "2                    NaN  \n",
      "3                    NaN  \n",
      "4                    NaN  \n",
      "\n",
      "[5 rows x 167 columns]\n"
     ]
    }
   ],
   "source": [
    "import pandas as pd\n",
    "\n",
    "data = pd.read_stata(\"callreports_final.dta\", chunksize=100000)\n",
    "\n",
    "df = pd.DataFrame()\n",
    "\n",
    "for chunk in data:\n",
    "    df=df.append(chunk)\n",
    "\n",
    "print(df.head(5))"
   ]
  },
  {
   "cell_type": "code",
   "execution_count": 2,
   "metadata": {},
   "outputs": [
    {
     "name": "stdout",
     "output_type": "stream",
     "text": [
      "   rssdid  chartertype     cert  bhcid        date               name  assets  \\\n",
      "0    28.0        200.0  26606.0    0.0  19860331.0  FIRST ATLANTIC BK  2779.0   \n",
      "\n",
      "   reloans    cash  persloans  ...  intincforloans  intincleases  \\\n",
      "0      0.0  1395.0       23.0  ...             NaN           0.0   \n",
      "\n",
      "   intincassets  intexptransdep  intexpsavdep  intexpfordep  \\\n",
      "0          22.0             NaN           NaN           0.0   \n",
      "\n",
      "   intexpfedfundsrepoliab  intincpersloans  intincreloans  \\\n",
      "0                     0.0              NaN            NaN   \n",
      "\n",
      "   dividendoncommonstock  \n",
      "0                    NaN  \n",
      "\n",
      "[1 rows x 167 columns]\n"
     ]
    }
   ],
   "source": [
    "is_rssid = df[\"rssdid\"]==28.0\n",
    "\n",
    "new_df = df[is_rssid]\n",
    "\n",
    "print(new_df[new_df[\"date\"]==19860331.0])"
   ]
  },
  {
   "cell_type": "code",
   "execution_count": 3,
   "metadata": {},
   "outputs": [
    {
     "name": "stdout",
     "output_type": "stream",
     "text": [
      "19830630.0    14477\n",
      "19830331.0    14465\n",
      "19770630.0    14446\n",
      "19810630.0    14440\n",
      "19820930.0    14437\n",
      "              ...  \n",
      "20121231.0     6037\n",
      "20130331.0     5985\n",
      "20130630.0     5918\n",
      "20130930.0     5875\n",
      "20131231.0     5816\n",
      "Name: date, Length: 152, dtype: int64\n"
     ]
    }
   ],
   "source": [
    "print(df[\"date\"].value_counts())"
   ]
  },
  {
   "cell_type": "code",
   "execution_count": 4,
   "metadata": {
    "scrolled": true
   },
   "outputs": [
    {
     "name": "stdout",
     "output_type": "stream",
     "text": [
      "['rssdid' 'chartertype' 'cert' 'bhcid' 'date' 'name' 'assets' 'reloans'\n",
      " 'cash' 'persloans' 'agloans' 'subordinateddebt' 'equity' 'demanddep'\n",
      " 'transdep' 'brokereddep' 'timedepge100k' 'timedeple100k' 'ciloans'\n",
      " 'loans' 'loansnet' 'fedfundsrepoasset' 'tradingassets' 'securities'\n",
      " 'securities_ammcost' 'securitiesheldtomaturity'\n",
      " 'securitiesavailableforsale' 'liabilities' 'deposits' 'foreigndep'\n",
      " 'nonintbeardep' 'intbeardep' 'intbearfordep' 'fedfundsrepoliab'\n",
      " 'tradingliabilities' 'otherborrowedmoney' 'timesavdep' 'nontransdep'\n",
      " 'timedep' 'timedepuninsured' 'savdep' 'totsavdep' 'numemployees'\n",
      " 'intexpdep' 'qavgbaldue' 'qavgtreasuriesagencydebt' 'qavgmbs'\n",
      " 'qavgothersecurities' 'qavgtradingassets' 'qavgfedfundsrepoasset'\n",
      " 'qavgloans' 'qavgreloans1to4fam' 'qavgreloansother' 'qavgagloans'\n",
      " 'qavgciloans' 'qavgpersccards' 'qavgpersother' 'qavgforloans'\n",
      " 'qavgleases' 'qavgassets' 'qavgtransdep' 'qavgsavdep' 'qavgtimedepge100k'\n",
      " 'qavgtimedeple100k' 'qavgfordep' 'qavgfedfundsrepoliab'\n",
      " 'qavgtradingandotherborrowed' 'intexptradingandotherborrowed'\n",
      " 'qavgpersloans' 'qavgreloans' 'qavgsecurities' 'securities_less_3m'\n",
      " 'securities_3m_1y' 'securities_1y_3y' 'securities_3y_5y'\n",
      " 'securities_5y_15y' 'securities_over_15y' 'securitiestreasury_less_3m'\n",
      " 'securitiestreasury_3m_1y' 'securitiestreasury_1y_3y'\n",
      " 'securitiestreasury_3y_5y' 'securitiestreasury_5y_15y'\n",
      " 'securitiestreasury_over_15y' 'securitiesrmbs_less_3m'\n",
      " 'securitiesrmbs_3m_1y' 'securitiesrmbs_1y_3y' 'securitiesrmbs_3y_5y'\n",
      " 'securitiesrmbs_5y_15y' 'securitiesrmbs_over_15y'\n",
      " 'securitiesothermbs_less_3y' 'securitiesothermbs_over_3y'\n",
      " 'loansleases_mat_less_1y' 'securities_mat_less_1y' 'resloans_less_3m'\n",
      " 'resloans_3m_1y' 'resloans_1y_3y' 'resloans_3y_5y' 'resloans_5y_15y'\n",
      " 'resloans_over_15y' 'loansleases_less_3m' 'loansleases_3m_1y'\n",
      " 'loansleases_1y_3y' 'loansleases_3y_5y' 'loansleases_5y_15y'\n",
      " 'loansleases_over_15y' 'timedeple100k_less_3m' 'timedeple100k_3m_1y'\n",
      " 'timedeple100k_1y_3y' 'timedeple100k_over_3y' 'timedeple100k_less_1y'\n",
      " 'timedepge100k_less_3m' 'timedepge100k_3m_1y' 'timedepge100k_1y_3y'\n",
      " 'timedepge100k_over_3y' 'interestratederivatives'\n",
      " 'interestratederivatives_par' 'grosshedging' 'fixedrateswaps'\n",
      " 'totalswaps' 'floatingrateswaps' 'nethedging' 'grosstrading' 'year'\n",
      " 'month' 'quarter' 'day' 'dateq' 'operinc' 'intexp' 'intincnet'\n",
      " 'nonintinc' 'domdepservicecharges' 'nonintexp' 'intandnonintexp'\n",
      " 'salaries' 'intexpalldep' 'intexpdomdep' 'intexpsubordinated'\n",
      " 'exponpremises' 'intanddivincsecurities' 'loanleaselossprovision'\n",
      " 'netinc' 'intexptimedepge100k' 'intexptimedeple100k' 'tradingrevenue'\n",
      " 'intincbaldue' 'intinctreasuriesagencydebt' 'intincmbs'\n",
      " 'intincothersecurities' 'intincfedfundsrepoasset' 'intincloans'\n",
      " 'intincreloans1to4fam' 'intincreloansother' 'intincagloans'\n",
      " 'intincciloans' 'intincpersccards' 'intincpersother' 'intincforloans'\n",
      " 'intincleases' 'intincassets' 'intexptransdep' 'intexpsavdep'\n",
      " 'intexpfordep' 'intexpfedfundsrepoliab' 'intincpersloans' 'intincreloans'\n",
      " 'dividendoncommonstock']\n"
     ]
    }
   ],
   "source": [
    "print(df.columns.values)"
   ]
  },
  {
   "cell_type": "code",
   "execution_count": 5,
   "metadata": {
    "scrolled": true
   },
   "outputs": [
    {
     "name": "stdout",
     "output_type": "stream",
     "text": [
      "     rssdid                    name  bhcid\n",
      "31     37.0  BANK OF HANCOCK COUNTY    0.0\n",
      "32     37.0     BANK OF HANCOCK CTY    0.0\n",
      "33     37.0  BANK OF HANCOCK COUNTY    0.0\n",
      "34     37.0     BANK OF HANCOCK CTY    0.0\n",
      "35     37.0  BANK OF HANCOCK COUNTY    0.0\n",
      "..      ...                     ...    ...\n",
      "178    37.0     BANK OF HANCOCK CTY    0.0\n",
      "179    37.0     BANK OF HANCOCK CTY    0.0\n",
      "180    37.0     BANK OF HANCOCK CTY    0.0\n",
      "181    37.0     BANK OF HANCOCK CTY    0.0\n",
      "182    37.0     BANK OF HANCOCK CTY    0.0\n",
      "\n",
      "[152 rows x 3 columns]\n"
     ]
    }
   ],
   "source": [
    "print(df[df.rssdid==37][[\"rssdid\",\"name\", \"bhcid\"]])"
   ]
  },
  {
   "cell_type": "code",
   "execution_count": null,
   "metadata": {},
   "outputs": [],
   "source": []
  },
  {
   "cell_type": "code",
   "execution_count": 6,
   "metadata": {},
   "outputs": [
    {
     "name": "stdout",
     "output_type": "stream",
     "text": [
      "Int64Index([      0,       1,       2,       3,       4,       5,       6,\n",
      "                  7,       8,       9,\n",
      "            ...\n",
      "            1609530, 1609531, 1609532, 1609533, 1609534, 1609535, 1609536,\n",
      "            1609537, 1609538, 1609539],\n",
      "           dtype='int64', length=1609540)\n"
     ]
    }
   ],
   "source": [
    "print(df.index)"
   ]
  },
  {
   "cell_type": "code",
   "execution_count": 7,
   "metadata": {},
   "outputs": [
    {
     "name": "stdout",
     "output_type": "stream",
     "text": [
      "Float64Index([     28.0,      28.0,      28.0,      28.0,      28.0,      28.0,\n",
      "                   28.0,      28.0,      28.0,      28.0,\n",
      "              ...\n",
      "              4262543.0, 4262543.0, 4262543.0, 4262543.0, 4262543.0, 4262543.0,\n",
      "              4262543.0, 4536084.0, 4569167.0, 4589857.0],\n",
      "             dtype='float64', name='rssdid', length=1609540)\n"
     ]
    }
   ],
   "source": [
    "df_index = df.set_index(\"rssdid\")\n",
    "print(df_index.index)"
   ]
  },
  {
   "cell_type": "code",
   "execution_count": 8,
   "metadata": {},
   "outputs": [
    {
     "name": "stdout",
     "output_type": "stream",
     "text": [
      "                       name    cash    year  month  quarter\n",
      "rssdid                                                     \n",
      "37.0    BANK OF HANCOCK CTY  7374.0  2010.0    3.0      1.0\n",
      "37.0    BANK OF HANCOCK CTY  4039.0  2010.0    6.0      2.0\n",
      "37.0    BANK OF HANCOCK CTY  7382.0  2010.0    9.0      3.0\n",
      "37.0    BANK OF HANCOCK CTY  8867.0  2010.0   12.0      4.0\n",
      "rssdid\n",
      "37.0     7374.0\n",
      "37.0    11413.0\n",
      "37.0    18795.0\n",
      "37.0    27662.0\n",
      "Name: cash, dtype: float64\n"
     ]
    }
   ],
   "source": [
    "rowData = df_index.loc[(df_index[\"year\"]== 2010.0) & (df_index.index==37.0)]\n",
    "rowData = rowData[[\"name\",\"cash\", 'year', 'month','quarter']]\n",
    "print(rowData)\n",
    "cumsum = rowData[\"cash\"].cumsum()\n",
    "print(cumsum)"
   ]
  },
  {
   "cell_type": "code",
   "execution_count": 9,
   "metadata": {},
   "outputs": [
    {
     "name": "stdout",
     "output_type": "stream",
     "text": [
      "                       name   cumsum    cash    year  month  quarter\n",
      "rssdid                                                              \n",
      "37.0    BANK OF HANCOCK CTY   7374.0  7374.0  2010.0    3.0      1.0\n",
      "37.0    BANK OF HANCOCK CTY  11413.0  4039.0  2010.0    6.0      2.0\n",
      "37.0    BANK OF HANCOCK CTY  18795.0  7382.0  2010.0    9.0      3.0\n",
      "37.0    BANK OF HANCOCK CTY  27662.0  8867.0  2010.0   12.0      4.0\n"
     ]
    }
   ],
   "source": [
    "rowData.insert(loc=1, column = \"cumsum\", value=cumsum)\n",
    "print(rowData)"
   ]
  },
  {
   "cell_type": "code",
   "execution_count": 10,
   "metadata": {},
   "outputs": [
    {
     "data": {
      "text/html": [
       "<div>\n",
       "<style scoped>\n",
       "    .dataframe tbody tr th:only-of-type {\n",
       "        vertical-align: middle;\n",
       "    }\n",
       "\n",
       "    .dataframe tbody tr th {\n",
       "        vertical-align: top;\n",
       "    }\n",
       "\n",
       "    .dataframe thead th {\n",
       "        text-align: right;\n",
       "    }\n",
       "</style>\n",
       "<table border=\"1\" class=\"dataframe\">\n",
       "  <thead>\n",
       "    <tr style=\"text-align: right;\">\n",
       "      <th></th>\n",
       "      <th>cash</th>\n",
       "      <th>year</th>\n",
       "      <th>month</th>\n",
       "      <th>quarter</th>\n",
       "    </tr>\n",
       "    <tr>\n",
       "      <th>rssdid</th>\n",
       "      <th></th>\n",
       "      <th></th>\n",
       "      <th></th>\n",
       "      <th></th>\n",
       "    </tr>\n",
       "  </thead>\n",
       "  <tbody>\n",
       "    <tr>\n",
       "      <td>37.0</td>\n",
       "      <td>6915.50</td>\n",
       "      <td>2010.0</td>\n",
       "      <td>7.5</td>\n",
       "      <td>2.5</td>\n",
       "    </tr>\n",
       "    <tr>\n",
       "      <td>242.0</td>\n",
       "      <td>1493.25</td>\n",
       "      <td>2010.0</td>\n",
       "      <td>7.5</td>\n",
       "      <td>2.5</td>\n",
       "    </tr>\n",
       "    <tr>\n",
       "      <td>354.0</td>\n",
       "      <td>338.25</td>\n",
       "      <td>2010.0</td>\n",
       "      <td>7.5</td>\n",
       "      <td>2.5</td>\n",
       "    </tr>\n",
       "    <tr>\n",
       "      <td>457.0</td>\n",
       "      <td>2303.50</td>\n",
       "      <td>2010.0</td>\n",
       "      <td>7.5</td>\n",
       "      <td>2.5</td>\n",
       "    </tr>\n",
       "    <tr>\n",
       "      <td>505.0</td>\n",
       "      <td>41104.50</td>\n",
       "      <td>2010.0</td>\n",
       "      <td>7.5</td>\n",
       "      <td>2.5</td>\n",
       "    </tr>\n",
       "    <tr>\n",
       "      <td>...</td>\n",
       "      <td>...</td>\n",
       "      <td>...</td>\n",
       "      <td>...</td>\n",
       "      <td>...</td>\n",
       "    </tr>\n",
       "    <tr>\n",
       "      <td>4160667.0</td>\n",
       "      <td>166188.50</td>\n",
       "      <td>2010.0</td>\n",
       "      <td>10.5</td>\n",
       "      <td>3.5</td>\n",
       "    </tr>\n",
       "    <tr>\n",
       "      <td>4165907.0</td>\n",
       "      <td>4291.00</td>\n",
       "      <td>2010.0</td>\n",
       "      <td>10.5</td>\n",
       "      <td>3.5</td>\n",
       "    </tr>\n",
       "    <tr>\n",
       "      <td>4184186.0</td>\n",
       "      <td>149555.00</td>\n",
       "      <td>2010.0</td>\n",
       "      <td>10.5</td>\n",
       "      <td>3.5</td>\n",
       "    </tr>\n",
       "    <tr>\n",
       "      <td>4203911.0</td>\n",
       "      <td>80333.00</td>\n",
       "      <td>2010.0</td>\n",
       "      <td>12.0</td>\n",
       "      <td>4.0</td>\n",
       "    </tr>\n",
       "    <tr>\n",
       "      <td>4210227.0</td>\n",
       "      <td>1434364.00</td>\n",
       "      <td>2010.0</td>\n",
       "      <td>12.0</td>\n",
       "      <td>4.0</td>\n",
       "    </tr>\n",
       "  </tbody>\n",
       "</table>\n",
       "<p>6732 rows × 4 columns</p>\n",
       "</div>"
      ],
      "text/plain": [
       "                 cash    year  month  quarter\n",
       "rssdid                                       \n",
       "37.0          6915.50  2010.0    7.5      2.5\n",
       "242.0         1493.25  2010.0    7.5      2.5\n",
       "354.0          338.25  2010.0    7.5      2.5\n",
       "457.0         2303.50  2010.0    7.5      2.5\n",
       "505.0        41104.50  2010.0    7.5      2.5\n",
       "...               ...     ...    ...      ...\n",
       "4160667.0   166188.50  2010.0   10.5      3.5\n",
       "4165907.0     4291.00  2010.0   10.5      3.5\n",
       "4184186.0   149555.00  2010.0   10.5      3.5\n",
       "4203911.0    80333.00  2010.0   12.0      4.0\n",
       "4210227.0  1434364.00  2010.0   12.0      4.0\n",
       "\n",
       "[6732 rows x 4 columns]"
      ]
     },
     "execution_count": 10,
     "metadata": {},
     "output_type": "execute_result"
    }
   ],
   "source": [
    "banks2010 = df_index.loc[(df_index[\"year\"]== 2010.0)]\n",
    "banks2010 = banks2010[[\"name\",\"cash\", 'year', 'month','quarter']]\n",
    "banks2010.groupby([\"rssdid\"]).mean()\n"
   ]
  },
  {
   "cell_type": "code",
   "execution_count": 11,
   "metadata": {},
   "outputs": [
    {
     "name": "stdout",
     "output_type": "stream",
     "text": [
      "200.0    1609540\n",
      "Name: chartertype, dtype: int64\n"
     ]
    }
   ],
   "source": [
    "chartertypes = df[\"chartertype\"].value_counts()\n",
    "print(chartertypes)"
   ]
  },
  {
   "cell_type": "code",
   "execution_count": 12,
   "metadata": {},
   "outputs": [
    {
     "name": "stdout",
     "output_type": "stream",
     "text": [
      "0.0          595896\n",
      "1120754.0      7319\n",
      "1119794.0      4586\n",
      "1068294.0      3739\n",
      "1199497.0      3074\n",
      "              ...  \n",
      "1976625.0         1\n",
      "4031271.0         1\n",
      "1245527.0         1\n",
      "4184216.0         1\n",
      "1247286.0         1\n",
      "Name: bhcid, Length: 12879, dtype: int64\n",
      "<class 'pandas.core.series.Series'>\n",
      "1609527\n"
     ]
    }
   ],
   "source": [
    "bhcid_types = df[\"bhcid\"].value_counts()\n",
    "print(bhcid_types)\n",
    "print(type(bhcid_types))\n",
    "print(bhcid_types.sum())"
   ]
  },
  {
   "cell_type": "code",
   "execution_count": 13,
   "metadata": {},
   "outputs": [
    {
     "name": "stdout",
     "output_type": "stream",
     "text": [
      "Total assets: 13508824901.0\n",
      "Assets of Top10: 7761794131.0\n",
      "Share of top ten: 0.5745721176995512\n",
      "           rssdid      bhcid                  name        assets    year  \\\n",
      "1236244  852218.0  1039502.0  JPMORGAN CHASE BK NA  1.945467e+09  2013.0   \n",
      "692494   480228.0  1073757.0       BANK OF AMER NA  1.433716e+09  2013.0   \n",
      "648428   451965.0  1120754.0     WELLS FARGO BK NA  1.373600e+09  2013.0   \n",
      "686299   476810.0  1951350.0           CITIBANK NA  1.346747e+09  2013.0   \n",
      "727367   504713.0  1119794.0             U S BK NA  3.604783e+08  2013.0   \n",
      "1185923  817824.0  1069778.0             PNC BK NA  3.099997e+08  2013.0   \n",
      "778943   541101.0  3587146.0     BANK OF NY MELLON  2.966260e+08  2013.0   \n",
      "54075     35301.0  1111435.0     STATE STREET B&TC  2.390511e+08  2013.0   \n",
      "166556   112837.0  2277860.0        CAPITAL ONE NA  2.384829e+08  2013.0   \n",
      "716161   497404.0  1238565.0             T D BK NA  2.176262e+08  2013.0   \n",
      "\n",
      "         month  quarter  \n",
      "1236244   12.0      4.0  \n",
      "692494    12.0      4.0  \n",
      "648428    12.0      4.0  \n",
      "686299    12.0      4.0  \n",
      "727367    12.0      4.0  \n",
      "1185923   12.0      4.0  \n",
      "778943    12.0      4.0  \n",
      "54075     12.0      4.0  \n",
      "166556    12.0      4.0  \n",
      "716161    12.0      4.0  \n"
     ]
    }
   ],
   "source": [
    "df_short = df[[\"rssdid\",\"bhcid\",\"name\",\"assets\", 'year', 'month','quarter']]\n",
    "df_short_2013 = df_short.loc[(df_short[\"year\"]==2013) & (df_short[\"quarter\"]==4)]\n",
    "total_assets_sum = df_short_2013[\"assets\"].sum()\n",
    "print(\"Total assets: \" + str(total_assets_sum))\n",
    "\n",
    "sortByAsset = df_short_2013.sort_values(by=\"assets\", ascending=False)\n",
    "assets_top10 = sortByAsset.head(10)[\"assets\"].sum()\n",
    "print(\"Assets of Top10: \" + str(assets_top10))\n",
    "print(\"Share of top ten: \" + str(assets_top10/total_assets_sum))\n",
    "print(sortByAsset.head(10))"
   ]
  },
  {
   "cell_type": "code",
   "execution_count": 14,
   "metadata": {},
   "outputs": [
    {
     "name": "stdout",
     "output_type": "stream",
     "text": [
      "            rssdid      bhcid                        name        assets  \\\n",
      "706978    489913.0  1039502.0             CHASE BK USA NA  1.230413e+08   \n",
      "935182    651448.0  1039502.0  JPMORGAN CHASE BK DEARBORN  6.011800e+04   \n",
      "1236244   852218.0  1039502.0        JPMORGAN CHASE BK NA  1.945467e+09   \n",
      "1608862  3812165.0  1039502.0            JPMORGAN B&TC NA  7.835932e+06   \n",
      "\n",
      "           year  month  quarter  \n",
      "706978   2013.0   12.0      4.0  \n",
      "935182   2013.0   12.0      4.0  \n",
      "1236244  2013.0   12.0      4.0  \n",
      "1608862  2013.0   12.0      4.0  \n",
      "2076404334.0\n"
     ]
    }
   ],
   "source": [
    "df_JPMORGAN_2013 = df_short.loc[(df_short[\"year\"]==2013) & (df_short[\"quarter\"]==4) & (df_short[\"bhcid\"]==1039502.0)]\n",
    "print(df_JPMORGAN_2013)\n",
    "total_assets_sum = df_JPMORGAN_2013[\"assets\"].sum()\n",
    "print(total_assets_sum)"
   ]
  },
  {
   "cell_type": "code",
   "execution_count": 15,
   "metadata": {},
   "outputs": [
    {
     "name": "stdout",
     "output_type": "stream",
     "text": [
      "float64\n"
     ]
    }
   ],
   "source": [
    "print(df[\"month\"].dtypes)"
   ]
  },
  {
   "cell_type": "code",
   "execution_count": 16,
   "metadata": {},
   "outputs": [],
   "source": [
    "df[\"month\"] = df[\"month\"].astype(int)"
   ]
  },
  {
   "cell_type": "code",
   "execution_count": 17,
   "metadata": {},
   "outputs": [
    {
     "name": "stdout",
     "output_type": "stream",
     "text": [
      "int32\n"
     ]
    }
   ],
   "source": [
    "print(df[\"month\"].dtypes)"
   ]
  },
  {
   "cell_type": "code",
   "execution_count": 18,
   "metadata": {},
   "outputs": [
    {
     "name": "stdout",
     "output_type": "stream",
     "text": [
      "   rssdid  chartertype     cert  bhcid        date               name  assets  \\\n",
      "0    28.0        200.0  26606.0    0.0  19860331.0  FIRST ATLANTIC BK  2779.0   \n",
      "1    28.0        200.0  26606.0    0.0  19860630.0  FIRST ATLANTIC BK  4322.0   \n",
      "2    28.0        200.0  26606.0    0.0  19860930.0  FIRST ATLANTIC BK  5118.0   \n",
      "3    28.0        200.0  26606.0    0.0  19861231.0  FIRST ATLANTIC BK  5742.0   \n",
      "4    28.0        200.0  26606.0    0.0  19870331.0  FIRST ATLANTIC BK  7737.0   \n",
      "\n",
      "   reloans    cash  persloans  ...  intincforloans  intincleases  \\\n",
      "0      0.0  1395.0       23.0  ...             NaN           0.0   \n",
      "1    808.0   153.0      820.0  ...             NaN           0.0   \n",
      "2   1406.0   601.0     1063.0  ...             NaN           0.0   \n",
      "3   1701.0   292.0      995.0  ...             NaN           0.0   \n",
      "4   2451.0   701.0     1179.0  ...             NaN           0.0   \n",
      "\n",
      "   intincassets  intexptransdep  intexpsavdep  intexpfordep  \\\n",
      "0          22.0             NaN           NaN           0.0   \n",
      "1          72.0             NaN           NaN           0.0   \n",
      "2         100.0             NaN           NaN           0.0   \n",
      "3         111.0             NaN           NaN           0.0   \n",
      "4         134.0            11.0          16.0           0.0   \n",
      "\n",
      "   intexpfedfundsrepoliab  intincpersloans  intincreloans  \\\n",
      "0                     0.0              NaN            NaN   \n",
      "1                     0.0              NaN            NaN   \n",
      "2                     0.0              NaN            NaN   \n",
      "3                     0.0              NaN            NaN   \n",
      "4                     0.0              NaN            NaN   \n",
      "\n",
      "   dividendoncommonstock  \n",
      "0                    NaN  \n",
      "1                    NaN  \n",
      "2                    NaN  \n",
      "3                    NaN  \n",
      "4                    NaN  \n",
      "\n",
      "[5 rows x 167 columns]\n"
     ]
    }
   ],
   "source": [
    "df1 = df[df.isnull().any(axis=1)]\n",
    "print(df1.head(5))"
   ]
  },
  {
   "cell_type": "code",
   "execution_count": 19,
   "metadata": {},
   "outputs": [
    {
     "name": "stdout",
     "output_type": "stream",
     "text": [
      "                name    cash    year  month  quarter\n",
      "0  FIRST ATLANTIC BK  1395.0  1986.0      3      1.0\n",
      "1  FIRST ATLANTIC BK   153.0  1986.0      6      2.0\n",
      "2  FIRST ATLANTIC BK   601.0  1986.0      9      3.0\n",
      "3  FIRST ATLANTIC BK   292.0  1986.0     12      4.0\n",
      "4  FIRST ATLANTIC BK   701.0  1987.0      3      1.0\n"
     ]
    }
   ],
   "source": [
    "df_reduced = df[[\"name\",\"cash\", 'year', 'month','quarter']]\n",
    "print(df_reduced.head(5))"
   ]
  },
  {
   "cell_type": "code",
   "execution_count": 20,
   "metadata": {},
   "outputs": [
    {
     "name": "stdout",
     "output_type": "stream",
     "text": [
      "['rssdid' 'chartertype' 'cert' 'date' 'name' 'foreigndep' 'year' 'month'\n",
      " 'quarter' 'day' 'dateq' 'intexpfordep']\n"
     ]
    }
   ],
   "source": [
    "print(df.dropna(axis=1).columns.values)"
   ]
  },
  {
   "cell_type": "code",
   "execution_count": 21,
   "metadata": {},
   "outputs": [
    {
     "name": "stdout",
     "output_type": "stream",
     "text": [
      "            rssdid                        name      bhcid\n",
      "706978    489913.0             CHASE BK USA NA  1039502.0\n",
      "935182    651448.0  JPMORGAN CHASE BK DEARBORN  1039502.0\n",
      "1236244   852218.0        JPMORGAN CHASE BK NA  1039502.0\n",
      "1608862  3812165.0            JPMORGAN B&TC NA  1039502.0\n"
     ]
    }
   ],
   "source": [
    "print(df_short.loc[(df_short[\"bhcid\"]==1039502.0) & (df_short[\"year\"]==2013) & (df_short[\"quarter\"]==4)][[\"rssdid\", \"name\", \"bhcid\"]])"
   ]
  },
  {
   "cell_type": "code",
   "execution_count": 22,
   "metadata": {},
   "outputs": [
    {
     "name": "stdout",
     "output_type": "stream",
     "text": [
      "                         name      bhcid     rssdid\n",
      "63158              PIONEER BK  1076422.0    41629.0\n",
      "100044           PIONEER B&TC  1143511.0    65559.0\n",
      "141500            ONE AMER BK        0.0    95051.0\n",
      "166556         CAPITAL ONE NA  2277860.0   112837.0\n",
      "178707        JONESBORO ST BK        0.0   121651.0\n",
      "...                       ...        ...        ...\n",
      "1605033           REDSTONE BK        0.0  3591004.0\n",
      "1605900  LONE STAR ST BK W TX  3641767.0  3607062.0\n",
      "1605986          LEVEL ONE BK  3612543.0  3612525.0\n",
      "1608779              ONE S BK  2037569.0  3807880.0\n",
      "1608942     CORNERSTONE BK NA        0.0  3816163.0\n",
      "\n",
      "[83 rows x 3 columns]\n"
     ]
    }
   ],
   "source": [
    "print(df[(df[\"name\"].str.contains(\"ONE\")==True) & (df_short[\"year\"]==2013) & (df_short[\"quarter\"]==4)][[\"name\", \"bhcid\", \"rssdid\"]])"
   ]
  },
  {
   "cell_type": "code",
   "execution_count": 23,
   "metadata": {},
   "outputs": [
    {
     "name": "stdout",
     "output_type": "stream",
     "text": [
      "            rssdid  chartertype     cert      bhcid        date  \\\n",
      "179           37.0        200.0  10057.0        0.0  20130331.0   \n",
      "180           37.0        200.0  10057.0        0.0  20130630.0   \n",
      "181           37.0        200.0  10057.0        0.0  20130930.0   \n",
      "182           37.0        200.0  10057.0        0.0  20131231.0   \n",
      "528          242.0        200.0   3850.0  3088643.0  20130331.0   \n",
      "...            ...          ...      ...        ...         ...   \n",
      "1609535  4262543.0        200.0  59060.0        0.0  20130930.0   \n",
      "1609536  4262543.0        200.0  59060.0        0.0  20131231.0   \n",
      "1609537  4536084.0        200.0  59074.0        0.0  20131231.0   \n",
      "1609538  4569167.0        200.0  58822.0  1085527.0  20131231.0   \n",
      "1609539  4589857.0        200.0  59078.0        0.0  20131231.0   \n",
      "\n",
      "                               name    assets   reloans      cash  persloans  \\\n",
      "179             BANK OF HANCOCK CTY   87258.0   24322.0   10928.0     5285.0   \n",
      "180             BANK OF HANCOCK CTY   88493.0   23992.0    8829.0     5376.0   \n",
      "181             BANK OF HANCOCK CTY   86633.0   24121.0    3609.0     5654.0   \n",
      "182             BANK OF HANCOCK CTY   84878.0   24985.0    6796.0     5613.0   \n",
      "528      FIRST CMNTY BK XENIA FLORA   39615.0   15064.0    4031.0     2636.0   \n",
      "...                             ...       ...       ...       ...        ...   \n",
      "1609535          ALOSTAR BK OF CMRC  770830.0   81532.0   35891.0      173.0   \n",
      "1609536          ALOSTAR BK OF CMRC  808999.0   82185.0   41030.0      175.0   \n",
      "1609537        BANK OF BIRD-IN-HAND   35356.0    3517.0    1250.0        0.0   \n",
      "1609538           NEW TRADITIONS BK  507242.0  269612.0  166758.0     2233.0   \n",
      "1609539              INVESCO NAT TC  270022.0       0.0  203970.0        0.0   \n",
      "\n",
      "         ...  intincforloans  intincleases  intincassets  intexptransdep  \\\n",
      "179      ...             NaN           0.0         837.0             4.0   \n",
      "180      ...             NaN           0.0         839.0             3.0   \n",
      "181      ...             NaN           0.0         951.0             3.0   \n",
      "182      ...             NaN           0.0         973.0             4.0   \n",
      "528      ...             NaN           0.0         363.0             2.0   \n",
      "...      ...             ...           ...           ...             ...   \n",
      "1609535  ...             NaN           0.0       10137.0             5.0   \n",
      "1609536  ...             NaN           0.0       12356.0             4.0   \n",
      "1609537  ...             NaN           0.0      -42074.0           -20.0   \n",
      "1609538  ...             NaN           0.0        2626.0             5.0   \n",
      "1609539  ...             NaN           0.0       -2635.0            -5.0   \n",
      "\n",
      "         intexpsavdep  intexpfordep  intexpfedfundsrepoliab  intincpersloans  \\\n",
      "179               6.0           0.0                     0.0            136.0   \n",
      "180               7.0           0.0                     0.0            157.0   \n",
      "181               7.0           0.0                     0.0            176.0   \n",
      "182               7.0           0.0                     0.0            179.0   \n",
      "528               3.0           0.0                     0.0             50.0   \n",
      "...               ...           ...                     ...              ...   \n",
      "1609535         188.0           0.0                     0.0              2.0   \n",
      "1609536         184.0           0.0                     0.0              1.0   \n",
      "1609537        -675.0           0.0                     0.0             -5.0   \n",
      "1609538         299.0           0.0                     0.0             18.0   \n",
      "1609539        -305.0           0.0                     0.0            -18.0   \n",
      "\n",
      "         intincreloans  dividendoncommonstock  \n",
      "179              362.0                    0.0  \n",
      "180              363.0                  120.0  \n",
      "181              368.0                    0.0  \n",
      "182              389.0                  120.0  \n",
      "528              188.0                   90.0  \n",
      "...                ...                    ...  \n",
      "1609535         2159.0                    0.0  \n",
      "1609536         1892.0                    0.0  \n",
      "1609537       -10030.0                    0.0  \n",
      "1609538         2158.0                    0.0  \n",
      "1609539        -2163.0                    0.0  \n",
      "\n",
      "[23594 rows x 167 columns]\n"
     ]
    }
   ],
   "source": [
    "print(df[df[\"year\"]==2013])"
   ]
  },
  {
   "cell_type": "code",
   "execution_count": 24,
   "metadata": {},
   "outputs": [
    {
     "name": "stdout",
     "output_type": "stream",
     "text": [
      "     rssdid  chartertype     cert  bhcid        date                 name  \\\n",
      "179    37.0        200.0  10057.0    0.0  20130331.0  BANK OF HANCOCK CTY   \n",
      "180    37.0        200.0  10057.0    0.0  20130630.0  BANK OF HANCOCK CTY   \n",
      "181    37.0        200.0  10057.0    0.0  20130930.0  BANK OF HANCOCK CTY   \n",
      "182    37.0        200.0  10057.0    0.0  20131231.0  BANK OF HANCOCK CTY   \n",
      "750   354.0        200.0  14083.0    0.0  20130331.0          BISON ST BK   \n",
      "\n",
      "      assets  reloans     cash  persloans  ...  intincforloans  intincleases  \\\n",
      "179  87258.0  24322.0  10928.0     5285.0  ...             NaN           0.0   \n",
      "180  88493.0  23992.0   8829.0     5376.0  ...             NaN           0.0   \n",
      "181  86633.0  24121.0   3609.0     5654.0  ...             NaN           0.0   \n",
      "182  84878.0  24985.0   6796.0     5613.0  ...             NaN           0.0   \n",
      "750  10966.0   1906.0    897.0      652.0  ...             NaN           0.0   \n",
      "\n",
      "     intincassets  intexptransdep  intexpsavdep  intexpfordep  \\\n",
      "179         837.0             4.0           6.0           0.0   \n",
      "180         839.0             3.0           7.0           0.0   \n",
      "181         951.0             3.0           7.0           0.0   \n",
      "182         973.0             4.0           7.0           0.0   \n",
      "750          76.0             0.0           1.0           0.0   \n",
      "\n",
      "     intexpfedfundsrepoliab  intincpersloans  intincreloans  \\\n",
      "179                     0.0            136.0          362.0   \n",
      "180                     0.0            157.0          363.0   \n",
      "181                     0.0            176.0          368.0   \n",
      "182                     0.0            179.0          389.0   \n",
      "750                     0.0             10.0           21.0   \n",
      "\n",
      "     dividendoncommonstock  \n",
      "179                    0.0  \n",
      "180                  120.0  \n",
      "181                    0.0  \n",
      "182                  120.0  \n",
      "750                    0.0  \n",
      "\n",
      "[5 rows x 167 columns]\n"
     ]
    }
   ],
   "source": [
    "df_banks_without_bhc_2013 = df[(df[\"bhcid\"]==0.0) & (df[\"year\"]==2013)]\n",
    "df_banks_with_bhc_2013 = df[(df[\"bhcid\"]>0.0) & (df[\"year\"]==2013)]\n",
    "print(df_banks_without_bhc_2013.head(5))"
   ]
  },
  {
   "cell_type": "code",
   "execution_count": 25,
   "metadata": {},
   "outputs": [
    {
     "name": "stdout",
     "output_type": "stream",
     "text": [
      "1000\n"
     ]
    }
   ],
   "source": [
    "banks_2013 = df[df[\"year\"]==2013].head(1000)\n",
    "counter = 0;\n",
    "for row in banks_2013.itertuples():\n",
    "    counter+=1\n",
    "    dictRow = row._asdict()\n",
    "    temp_bhcid = dictRow[\"bhcid\"]\n",
    "    for row1 in banks_2013.itertuples():\n",
    "        dictRow = row1._asdict()\n",
    "        temp_rssdid = dictRow[\"rssdid\"]\n",
    "        if (temp_rssdid == temp_bhcid):\n",
    "            print(row1)\n",
    "            break\n",
    "print(counter)"
   ]
  },
  {
   "cell_type": "code",
   "execution_count": 26,
   "metadata": {},
   "outputs": [
    {
     "name": "stdout",
     "output_type": "stream",
     "text": [
      "[1976. 1977. 1978. 1979. 1980. 1981. 1982. 1983. 1984. 1985. 1986. 1987.\n",
      " 1988. 1989. 1990. 1991. 1992. 1993. 1994. 1995. 1996. 1997. 1998. 1999.\n",
      " 2000. 2001. 2002. 2003. 2004. 2005. 2006. 2007. 2008. 2009. 2010. 2011.\n",
      " 2012. 2013.]\n",
      "<class 'numpy.ndarray'>\n",
      "2013.0\n",
      "1976.0\n"
     ]
    },
    {
     "data": {
      "text/html": [
       "<div>\n",
       "<style scoped>\n",
       "    .dataframe tbody tr th:only-of-type {\n",
       "        vertical-align: middle;\n",
       "    }\n",
       "\n",
       "    .dataframe tbody tr th {\n",
       "        vertical-align: top;\n",
       "    }\n",
       "\n",
       "    .dataframe thead th {\n",
       "        text-align: right;\n",
       "    }\n",
       "</style>\n",
       "<table border=\"1\" class=\"dataframe\">\n",
       "  <thead>\n",
       "    <tr style=\"text-align: right;\">\n",
       "      <th></th>\n",
       "      <th>rssdid</th>\n",
       "      <th>chartertype</th>\n",
       "      <th>cert</th>\n",
       "      <th>bhcid</th>\n",
       "      <th>date</th>\n",
       "      <th>name</th>\n",
       "      <th>assets</th>\n",
       "      <th>reloans</th>\n",
       "      <th>cash</th>\n",
       "      <th>persloans</th>\n",
       "      <th>...</th>\n",
       "      <th>intincforloans</th>\n",
       "      <th>intincleases</th>\n",
       "      <th>intincassets</th>\n",
       "      <th>intexptransdep</th>\n",
       "      <th>intexpsavdep</th>\n",
       "      <th>intexpfordep</th>\n",
       "      <th>intexpfedfundsrepoliab</th>\n",
       "      <th>intincpersloans</th>\n",
       "      <th>intincreloans</th>\n",
       "      <th>dividendoncommonstock</th>\n",
       "    </tr>\n",
       "  </thead>\n",
       "  <tbody>\n",
       "    <tr>\n",
       "      <td>31</td>\n",
       "      <td>37.0</td>\n",
       "      <td>200.0</td>\n",
       "      <td>10057.0</td>\n",
       "      <td>0.0</td>\n",
       "      <td>19760331.0</td>\n",
       "      <td>BANK OF HANCOCK COUNTY</td>\n",
       "      <td>11426.0</td>\n",
       "      <td>2587.0</td>\n",
       "      <td>569.0</td>\n",
       "      <td>2656.0</td>\n",
       "      <td>...</td>\n",
       "      <td>NaN</td>\n",
       "      <td>NaN</td>\n",
       "      <td>NaN</td>\n",
       "      <td>NaN</td>\n",
       "      <td>NaN</td>\n",
       "      <td>0.0</td>\n",
       "      <td>NaN</td>\n",
       "      <td>NaN</td>\n",
       "      <td>NaN</td>\n",
       "      <td>NaN</td>\n",
       "    </tr>\n",
       "    <tr>\n",
       "      <td>32</td>\n",
       "      <td>37.0</td>\n",
       "      <td>200.0</td>\n",
       "      <td>10057.0</td>\n",
       "      <td>0.0</td>\n",
       "      <td>19760630.0</td>\n",
       "      <td>BANK OF HANCOCK CTY</td>\n",
       "      <td>11593.0</td>\n",
       "      <td>2589.0</td>\n",
       "      <td>621.0</td>\n",
       "      <td>2910.0</td>\n",
       "      <td>...</td>\n",
       "      <td>NaN</td>\n",
       "      <td>NaN</td>\n",
       "      <td>NaN</td>\n",
       "      <td>NaN</td>\n",
       "      <td>NaN</td>\n",
       "      <td>0.0</td>\n",
       "      <td>NaN</td>\n",
       "      <td>NaN</td>\n",
       "      <td>NaN</td>\n",
       "      <td>NaN</td>\n",
       "    </tr>\n",
       "    <tr>\n",
       "      <td>33</td>\n",
       "      <td>37.0</td>\n",
       "      <td>200.0</td>\n",
       "      <td>10057.0</td>\n",
       "      <td>0.0</td>\n",
       "      <td>19760930.0</td>\n",
       "      <td>BANK OF HANCOCK COUNTY</td>\n",
       "      <td>11998.0</td>\n",
       "      <td>2879.0</td>\n",
       "      <td>875.0</td>\n",
       "      <td>3017.0</td>\n",
       "      <td>...</td>\n",
       "      <td>NaN</td>\n",
       "      <td>NaN</td>\n",
       "      <td>NaN</td>\n",
       "      <td>NaN</td>\n",
       "      <td>NaN</td>\n",
       "      <td>0.0</td>\n",
       "      <td>NaN</td>\n",
       "      <td>NaN</td>\n",
       "      <td>NaN</td>\n",
       "      <td>NaN</td>\n",
       "    </tr>\n",
       "    <tr>\n",
       "      <td>34</td>\n",
       "      <td>37.0</td>\n",
       "      <td>200.0</td>\n",
       "      <td>10057.0</td>\n",
       "      <td>0.0</td>\n",
       "      <td>19761231.0</td>\n",
       "      <td>BANK OF HANCOCK CTY</td>\n",
       "      <td>13113.0</td>\n",
       "      <td>2622.0</td>\n",
       "      <td>1299.0</td>\n",
       "      <td>3242.0</td>\n",
       "      <td>...</td>\n",
       "      <td>NaN</td>\n",
       "      <td>NaN</td>\n",
       "      <td>NaN</td>\n",
       "      <td>NaN</td>\n",
       "      <td>NaN</td>\n",
       "      <td>0.0</td>\n",
       "      <td>NaN</td>\n",
       "      <td>NaN</td>\n",
       "      <td>NaN</td>\n",
       "      <td>NaN</td>\n",
       "    </tr>\n",
       "    <tr>\n",
       "      <td>218</td>\n",
       "      <td>55.0</td>\n",
       "      <td>200.0</td>\n",
       "      <td>10977.0</td>\n",
       "      <td>0.0</td>\n",
       "      <td>19760331.0</td>\n",
       "      <td>STATE BK OF LITTLEFORK</td>\n",
       "      <td>4940.0</td>\n",
       "      <td>1556.0</td>\n",
       "      <td>271.0</td>\n",
       "      <td>791.0</td>\n",
       "      <td>...</td>\n",
       "      <td>NaN</td>\n",
       "      <td>NaN</td>\n",
       "      <td>NaN</td>\n",
       "      <td>NaN</td>\n",
       "      <td>NaN</td>\n",
       "      <td>0.0</td>\n",
       "      <td>NaN</td>\n",
       "      <td>NaN</td>\n",
       "      <td>NaN</td>\n",
       "      <td>NaN</td>\n",
       "    </tr>\n",
       "    <tr>\n",
       "      <td>...</td>\n",
       "      <td>...</td>\n",
       "      <td>...</td>\n",
       "      <td>...</td>\n",
       "      <td>...</td>\n",
       "      <td>...</td>\n",
       "      <td>...</td>\n",
       "      <td>...</td>\n",
       "      <td>...</td>\n",
       "      <td>...</td>\n",
       "      <td>...</td>\n",
       "      <td>...</td>\n",
       "      <td>...</td>\n",
       "      <td>...</td>\n",
       "      <td>...</td>\n",
       "      <td>...</td>\n",
       "      <td>...</td>\n",
       "      <td>...</td>\n",
       "      <td>...</td>\n",
       "      <td>...</td>\n",
       "      <td>...</td>\n",
       "      <td>...</td>\n",
       "    </tr>\n",
       "    <tr>\n",
       "      <td>1515624</td>\n",
       "      <td>1492817.0</td>\n",
       "      <td>200.0</td>\n",
       "      <td>18474.0</td>\n",
       "      <td>0.0</td>\n",
       "      <td>19761231.0</td>\n",
       "      <td>FIRST NB IN HOISINGTON</td>\n",
       "      <td>9647.0</td>\n",
       "      <td>505.0</td>\n",
       "      <td>981.0</td>\n",
       "      <td>287.0</td>\n",
       "      <td>...</td>\n",
       "      <td>NaN</td>\n",
       "      <td>NaN</td>\n",
       "      <td>NaN</td>\n",
       "      <td>NaN</td>\n",
       "      <td>NaN</td>\n",
       "      <td>0.0</td>\n",
       "      <td>NaN</td>\n",
       "      <td>NaN</td>\n",
       "      <td>NaN</td>\n",
       "      <td>NaN</td>\n",
       "    </tr>\n",
       "    <tr>\n",
       "      <td>1528261</td>\n",
       "      <td>2137843.0</td>\n",
       "      <td>200.0</td>\n",
       "      <td>19287.0</td>\n",
       "      <td>0.0</td>\n",
       "      <td>19760331.0</td>\n",
       "      <td>CHELSEA NB</td>\n",
       "      <td>30767.0</td>\n",
       "      <td>146.0</td>\n",
       "      <td>3202.0</td>\n",
       "      <td>2842.0</td>\n",
       "      <td>...</td>\n",
       "      <td>NaN</td>\n",
       "      <td>NaN</td>\n",
       "      <td>NaN</td>\n",
       "      <td>NaN</td>\n",
       "      <td>NaN</td>\n",
       "      <td>0.0</td>\n",
       "      <td>NaN</td>\n",
       "      <td>NaN</td>\n",
       "      <td>NaN</td>\n",
       "      <td>NaN</td>\n",
       "    </tr>\n",
       "    <tr>\n",
       "      <td>1528262</td>\n",
       "      <td>2137843.0</td>\n",
       "      <td>200.0</td>\n",
       "      <td>19287.0</td>\n",
       "      <td>0.0</td>\n",
       "      <td>19760630.0</td>\n",
       "      <td>CHELSEA NB</td>\n",
       "      <td>32266.0</td>\n",
       "      <td>144.0</td>\n",
       "      <td>3871.0</td>\n",
       "      <td>3265.0</td>\n",
       "      <td>...</td>\n",
       "      <td>NaN</td>\n",
       "      <td>NaN</td>\n",
       "      <td>NaN</td>\n",
       "      <td>NaN</td>\n",
       "      <td>NaN</td>\n",
       "      <td>0.0</td>\n",
       "      <td>NaN</td>\n",
       "      <td>NaN</td>\n",
       "      <td>NaN</td>\n",
       "      <td>NaN</td>\n",
       "    </tr>\n",
       "    <tr>\n",
       "      <td>1528263</td>\n",
       "      <td>2137843.0</td>\n",
       "      <td>200.0</td>\n",
       "      <td>19287.0</td>\n",
       "      <td>0.0</td>\n",
       "      <td>19760930.0</td>\n",
       "      <td>CHELSEA NB</td>\n",
       "      <td>31765.0</td>\n",
       "      <td>141.0</td>\n",
       "      <td>3187.0</td>\n",
       "      <td>3756.0</td>\n",
       "      <td>...</td>\n",
       "      <td>NaN</td>\n",
       "      <td>NaN</td>\n",
       "      <td>NaN</td>\n",
       "      <td>NaN</td>\n",
       "      <td>NaN</td>\n",
       "      <td>0.0</td>\n",
       "      <td>NaN</td>\n",
       "      <td>NaN</td>\n",
       "      <td>NaN</td>\n",
       "      <td>NaN</td>\n",
       "    </tr>\n",
       "    <tr>\n",
       "      <td>1528264</td>\n",
       "      <td>2137843.0</td>\n",
       "      <td>200.0</td>\n",
       "      <td>19287.0</td>\n",
       "      <td>0.0</td>\n",
       "      <td>19761231.0</td>\n",
       "      <td>CHELSEA NB</td>\n",
       "      <td>31211.0</td>\n",
       "      <td>125.0</td>\n",
       "      <td>4645.0</td>\n",
       "      <td>3659.0</td>\n",
       "      <td>...</td>\n",
       "      <td>NaN</td>\n",
       "      <td>NaN</td>\n",
       "      <td>NaN</td>\n",
       "      <td>NaN</td>\n",
       "      <td>NaN</td>\n",
       "      <td>0.0</td>\n",
       "      <td>NaN</td>\n",
       "      <td>NaN</td>\n",
       "      <td>NaN</td>\n",
       "      <td>NaN</td>\n",
       "    </tr>\n",
       "  </tbody>\n",
       "</table>\n",
       "<p>57572 rows × 167 columns</p>\n",
       "</div>"
      ],
      "text/plain": [
       "            rssdid  chartertype     cert  bhcid        date  \\\n",
       "31            37.0        200.0  10057.0    0.0  19760331.0   \n",
       "32            37.0        200.0  10057.0    0.0  19760630.0   \n",
       "33            37.0        200.0  10057.0    0.0  19760930.0   \n",
       "34            37.0        200.0  10057.0    0.0  19761231.0   \n",
       "218           55.0        200.0  10977.0    0.0  19760331.0   \n",
       "...            ...          ...      ...    ...         ...   \n",
       "1515624  1492817.0        200.0  18474.0    0.0  19761231.0   \n",
       "1528261  2137843.0        200.0  19287.0    0.0  19760331.0   \n",
       "1528262  2137843.0        200.0  19287.0    0.0  19760630.0   \n",
       "1528263  2137843.0        200.0  19287.0    0.0  19760930.0   \n",
       "1528264  2137843.0        200.0  19287.0    0.0  19761231.0   \n",
       "\n",
       "                           name   assets  reloans    cash  persloans  ...  \\\n",
       "31       BANK OF HANCOCK COUNTY  11426.0   2587.0   569.0     2656.0  ...   \n",
       "32          BANK OF HANCOCK CTY  11593.0   2589.0   621.0     2910.0  ...   \n",
       "33       BANK OF HANCOCK COUNTY  11998.0   2879.0   875.0     3017.0  ...   \n",
       "34          BANK OF HANCOCK CTY  13113.0   2622.0  1299.0     3242.0  ...   \n",
       "218      STATE BK OF LITTLEFORK   4940.0   1556.0   271.0      791.0  ...   \n",
       "...                         ...      ...      ...     ...        ...  ...   \n",
       "1515624  FIRST NB IN HOISINGTON   9647.0    505.0   981.0      287.0  ...   \n",
       "1528261              CHELSEA NB  30767.0    146.0  3202.0     2842.0  ...   \n",
       "1528262              CHELSEA NB  32266.0    144.0  3871.0     3265.0  ...   \n",
       "1528263              CHELSEA NB  31765.0    141.0  3187.0     3756.0  ...   \n",
       "1528264              CHELSEA NB  31211.0    125.0  4645.0     3659.0  ...   \n",
       "\n",
       "         intincforloans  intincleases  intincassets  intexptransdep  \\\n",
       "31                  NaN           NaN           NaN             NaN   \n",
       "32                  NaN           NaN           NaN             NaN   \n",
       "33                  NaN           NaN           NaN             NaN   \n",
       "34                  NaN           NaN           NaN             NaN   \n",
       "218                 NaN           NaN           NaN             NaN   \n",
       "...                 ...           ...           ...             ...   \n",
       "1515624             NaN           NaN           NaN             NaN   \n",
       "1528261             NaN           NaN           NaN             NaN   \n",
       "1528262             NaN           NaN           NaN             NaN   \n",
       "1528263             NaN           NaN           NaN             NaN   \n",
       "1528264             NaN           NaN           NaN             NaN   \n",
       "\n",
       "         intexpsavdep  intexpfordep  intexpfedfundsrepoliab  intincpersloans  \\\n",
       "31                NaN           0.0                     NaN              NaN   \n",
       "32                NaN           0.0                     NaN              NaN   \n",
       "33                NaN           0.0                     NaN              NaN   \n",
       "34                NaN           0.0                     NaN              NaN   \n",
       "218               NaN           0.0                     NaN              NaN   \n",
       "...               ...           ...                     ...              ...   \n",
       "1515624           NaN           0.0                     NaN              NaN   \n",
       "1528261           NaN           0.0                     NaN              NaN   \n",
       "1528262           NaN           0.0                     NaN              NaN   \n",
       "1528263           NaN           0.0                     NaN              NaN   \n",
       "1528264           NaN           0.0                     NaN              NaN   \n",
       "\n",
       "         intincreloans  dividendoncommonstock  \n",
       "31                 NaN                    NaN  \n",
       "32                 NaN                    NaN  \n",
       "33                 NaN                    NaN  \n",
       "34                 NaN                    NaN  \n",
       "218                NaN                    NaN  \n",
       "...                ...                    ...  \n",
       "1515624            NaN                    NaN  \n",
       "1528261            NaN                    NaN  \n",
       "1528262            NaN                    NaN  \n",
       "1528263            NaN                    NaN  \n",
       "1528264            NaN                    NaN  \n",
       "\n",
       "[57572 rows x 167 columns]"
      ]
     },
     "execution_count": 26,
     "metadata": {},
     "output_type": "execute_result"
    }
   ],
   "source": [
    "import numpy as np\n",
    "array = df[\"year\"].unique()\n",
    "print(np.sort(array))\n",
    "print(type(df[\"year\"].unique()))\n",
    "print(df.year.max())\n",
    "print(df.year.min())\n",
    "df[df.year==1976]"
   ]
  },
  {
   "cell_type": "code",
   "execution_count": 27,
   "metadata": {
    "scrolled": true
   },
   "outputs": [
    {
     "ename": "FileNotFoundError",
     "evalue": "[Errno 2] File b'bhcf1312.txt' does not exist: b'bhcf1312.txt'",
     "output_type": "error",
     "traceback": [
      "\u001b[1;31m---------------------------------------------------------------------------\u001b[0m",
      "\u001b[1;31mFileNotFoundError\u001b[0m                         Traceback (most recent call last)",
      "\u001b[1;32m<ipython-input-27-d385cc83bc41>\u001b[0m in \u001b[0;36m<module>\u001b[1;34m\u001b[0m\n\u001b[1;32m----> 1\u001b[1;33m \u001b[0mdf_bhc2013\u001b[0m \u001b[1;33m=\u001b[0m \u001b[0mpd\u001b[0m\u001b[1;33m.\u001b[0m\u001b[0mread_csv\u001b[0m\u001b[1;33m(\u001b[0m\u001b[1;34m\"bhcf1312.txt\"\u001b[0m\u001b[1;33m,\u001b[0m \u001b[0msep\u001b[0m\u001b[1;33m=\u001b[0m\u001b[1;34m\"^\"\u001b[0m\u001b[1;33m,\u001b[0m \u001b[0mnrows\u001b[0m\u001b[1;33m=\u001b[0m\u001b[1;36m1300\u001b[0m\u001b[1;33m,\u001b[0m \u001b[0mlow_memory\u001b[0m\u001b[1;33m=\u001b[0m\u001b[1;32mFalse\u001b[0m\u001b[1;33m)\u001b[0m\u001b[1;33m\u001b[0m\u001b[1;33m\u001b[0m\u001b[0m\n\u001b[0m\u001b[0;32m      2\u001b[0m \u001b[1;31m#print(df_bhc2013.head(5)[\"RSSD9001\"])\u001b[0m\u001b[1;33m\u001b[0m\u001b[1;33m\u001b[0m\u001b[1;33m\u001b[0m\u001b[0m\n\u001b[0;32m      3\u001b[0m \u001b[0mtempdf\u001b[0m \u001b[1;33m=\u001b[0m \u001b[0mdf_bhc2013\u001b[0m\u001b[1;33m[\u001b[0m\u001b[1;33m(\u001b[0m\u001b[0mdf_bhc2013\u001b[0m\u001b[1;33m[\u001b[0m\u001b[1;34m\"RSSD9017\"\u001b[0m\u001b[1;33m]\u001b[0m\u001b[1;33m.\u001b[0m\u001b[0mstr\u001b[0m\u001b[1;33m.\u001b[0m\u001b[0mcontains\u001b[0m\u001b[1;33m(\u001b[0m\u001b[1;34m\"JP\"\u001b[0m\u001b[1;33m)\u001b[0m\u001b[1;33m==\u001b[0m\u001b[1;32mTrue\u001b[0m\u001b[1;33m)\u001b[0m\u001b[1;33m]\u001b[0m\u001b[1;33m\u001b[0m\u001b[1;33m\u001b[0m\u001b[0m\n\u001b[0;32m      4\u001b[0m \u001b[0mtempdf\u001b[0m \u001b[1;33m=\u001b[0m \u001b[0mtempdf\u001b[0m\u001b[1;33m[\u001b[0m\u001b[1;33m[\u001b[0m\u001b[1;34m\"RSSD9017\"\u001b[0m\u001b[1;33m,\u001b[0m \u001b[1;34m\"RSSD9001\"\u001b[0m\u001b[1;33m,\u001b[0m \u001b[1;34m\"BHC02170\"\u001b[0m\u001b[1;33m,\u001b[0m \u001b[1;34m\"BHC22170\"\u001b[0m\u001b[1;33m,\u001b[0m \u001b[1;34m\"BHC52170\"\u001b[0m\u001b[1;33m,\u001b[0m \u001b[1;34m\"BHC92170\"\u001b[0m\u001b[1;33m,\u001b[0m \u001b[1;34m\"BHCE2170\"\u001b[0m\u001b[1;33m]\u001b[0m\u001b[1;33m]\u001b[0m\u001b[1;33m\u001b[0m\u001b[1;33m\u001b[0m\u001b[0m\n\u001b[0;32m      5\u001b[0m \u001b[0mtempdf1\u001b[0m \u001b[1;33m=\u001b[0m \u001b[0mtempdf\u001b[0m\u001b[1;33m[\u001b[0m\u001b[1;33m[\u001b[0m\u001b[1;34m\"BHC02170\"\u001b[0m\u001b[1;33m,\u001b[0m \u001b[1;34m\"BHC22170\"\u001b[0m\u001b[1;33m,\u001b[0m \u001b[1;34m\"BHC52170\"\u001b[0m\u001b[1;33m,\u001b[0m \u001b[1;34m\"BHC92170\"\u001b[0m\u001b[1;33m]\u001b[0m\u001b[1;33m]\u001b[0m\u001b[1;33m\u001b[0m\u001b[1;33m\u001b[0m\u001b[0m\n",
      "\u001b[1;32mC:\\ProgramData\\Anaconda3\\lib\\site-packages\\pandas\\io\\parsers.py\u001b[0m in \u001b[0;36mparser_f\u001b[1;34m(filepath_or_buffer, sep, delimiter, header, names, index_col, usecols, squeeze, prefix, mangle_dupe_cols, dtype, engine, converters, true_values, false_values, skipinitialspace, skiprows, skipfooter, nrows, na_values, keep_default_na, na_filter, verbose, skip_blank_lines, parse_dates, infer_datetime_format, keep_date_col, date_parser, dayfirst, cache_dates, iterator, chunksize, compression, thousands, decimal, lineterminator, quotechar, quoting, doublequote, escapechar, comment, encoding, dialect, error_bad_lines, warn_bad_lines, delim_whitespace, low_memory, memory_map, float_precision)\u001b[0m\n\u001b[0;32m    683\u001b[0m         )\n\u001b[0;32m    684\u001b[0m \u001b[1;33m\u001b[0m\u001b[0m\n\u001b[1;32m--> 685\u001b[1;33m         \u001b[1;32mreturn\u001b[0m \u001b[0m_read\u001b[0m\u001b[1;33m(\u001b[0m\u001b[0mfilepath_or_buffer\u001b[0m\u001b[1;33m,\u001b[0m \u001b[0mkwds\u001b[0m\u001b[1;33m)\u001b[0m\u001b[1;33m\u001b[0m\u001b[1;33m\u001b[0m\u001b[0m\n\u001b[0m\u001b[0;32m    686\u001b[0m \u001b[1;33m\u001b[0m\u001b[0m\n\u001b[0;32m    687\u001b[0m     \u001b[0mparser_f\u001b[0m\u001b[1;33m.\u001b[0m\u001b[0m__name__\u001b[0m \u001b[1;33m=\u001b[0m \u001b[0mname\u001b[0m\u001b[1;33m\u001b[0m\u001b[1;33m\u001b[0m\u001b[0m\n",
      "\u001b[1;32mC:\\ProgramData\\Anaconda3\\lib\\site-packages\\pandas\\io\\parsers.py\u001b[0m in \u001b[0;36m_read\u001b[1;34m(filepath_or_buffer, kwds)\u001b[0m\n\u001b[0;32m    455\u001b[0m \u001b[1;33m\u001b[0m\u001b[0m\n\u001b[0;32m    456\u001b[0m     \u001b[1;31m# Create the parser.\u001b[0m\u001b[1;33m\u001b[0m\u001b[1;33m\u001b[0m\u001b[1;33m\u001b[0m\u001b[0m\n\u001b[1;32m--> 457\u001b[1;33m     \u001b[0mparser\u001b[0m \u001b[1;33m=\u001b[0m \u001b[0mTextFileReader\u001b[0m\u001b[1;33m(\u001b[0m\u001b[0mfp_or_buf\u001b[0m\u001b[1;33m,\u001b[0m \u001b[1;33m**\u001b[0m\u001b[0mkwds\u001b[0m\u001b[1;33m)\u001b[0m\u001b[1;33m\u001b[0m\u001b[1;33m\u001b[0m\u001b[0m\n\u001b[0m\u001b[0;32m    458\u001b[0m \u001b[1;33m\u001b[0m\u001b[0m\n\u001b[0;32m    459\u001b[0m     \u001b[1;32mif\u001b[0m \u001b[0mchunksize\u001b[0m \u001b[1;32mor\u001b[0m \u001b[0miterator\u001b[0m\u001b[1;33m:\u001b[0m\u001b[1;33m\u001b[0m\u001b[1;33m\u001b[0m\u001b[0m\n",
      "\u001b[1;32mC:\\ProgramData\\Anaconda3\\lib\\site-packages\\pandas\\io\\parsers.py\u001b[0m in \u001b[0;36m__init__\u001b[1;34m(self, f, engine, **kwds)\u001b[0m\n\u001b[0;32m    893\u001b[0m             \u001b[0mself\u001b[0m\u001b[1;33m.\u001b[0m\u001b[0moptions\u001b[0m\u001b[1;33m[\u001b[0m\u001b[1;34m\"has_index_names\"\u001b[0m\u001b[1;33m]\u001b[0m \u001b[1;33m=\u001b[0m \u001b[0mkwds\u001b[0m\u001b[1;33m[\u001b[0m\u001b[1;34m\"has_index_names\"\u001b[0m\u001b[1;33m]\u001b[0m\u001b[1;33m\u001b[0m\u001b[1;33m\u001b[0m\u001b[0m\n\u001b[0;32m    894\u001b[0m \u001b[1;33m\u001b[0m\u001b[0m\n\u001b[1;32m--> 895\u001b[1;33m         \u001b[0mself\u001b[0m\u001b[1;33m.\u001b[0m\u001b[0m_make_engine\u001b[0m\u001b[1;33m(\u001b[0m\u001b[0mself\u001b[0m\u001b[1;33m.\u001b[0m\u001b[0mengine\u001b[0m\u001b[1;33m)\u001b[0m\u001b[1;33m\u001b[0m\u001b[1;33m\u001b[0m\u001b[0m\n\u001b[0m\u001b[0;32m    896\u001b[0m \u001b[1;33m\u001b[0m\u001b[0m\n\u001b[0;32m    897\u001b[0m     \u001b[1;32mdef\u001b[0m \u001b[0mclose\u001b[0m\u001b[1;33m(\u001b[0m\u001b[0mself\u001b[0m\u001b[1;33m)\u001b[0m\u001b[1;33m:\u001b[0m\u001b[1;33m\u001b[0m\u001b[1;33m\u001b[0m\u001b[0m\n",
      "\u001b[1;32mC:\\ProgramData\\Anaconda3\\lib\\site-packages\\pandas\\io\\parsers.py\u001b[0m in \u001b[0;36m_make_engine\u001b[1;34m(self, engine)\u001b[0m\n\u001b[0;32m   1133\u001b[0m     \u001b[1;32mdef\u001b[0m \u001b[0m_make_engine\u001b[0m\u001b[1;33m(\u001b[0m\u001b[0mself\u001b[0m\u001b[1;33m,\u001b[0m \u001b[0mengine\u001b[0m\u001b[1;33m=\u001b[0m\u001b[1;34m\"c\"\u001b[0m\u001b[1;33m)\u001b[0m\u001b[1;33m:\u001b[0m\u001b[1;33m\u001b[0m\u001b[1;33m\u001b[0m\u001b[0m\n\u001b[0;32m   1134\u001b[0m         \u001b[1;32mif\u001b[0m \u001b[0mengine\u001b[0m \u001b[1;33m==\u001b[0m \u001b[1;34m\"c\"\u001b[0m\u001b[1;33m:\u001b[0m\u001b[1;33m\u001b[0m\u001b[1;33m\u001b[0m\u001b[0m\n\u001b[1;32m-> 1135\u001b[1;33m             \u001b[0mself\u001b[0m\u001b[1;33m.\u001b[0m\u001b[0m_engine\u001b[0m \u001b[1;33m=\u001b[0m \u001b[0mCParserWrapper\u001b[0m\u001b[1;33m(\u001b[0m\u001b[0mself\u001b[0m\u001b[1;33m.\u001b[0m\u001b[0mf\u001b[0m\u001b[1;33m,\u001b[0m \u001b[1;33m**\u001b[0m\u001b[0mself\u001b[0m\u001b[1;33m.\u001b[0m\u001b[0moptions\u001b[0m\u001b[1;33m)\u001b[0m\u001b[1;33m\u001b[0m\u001b[1;33m\u001b[0m\u001b[0m\n\u001b[0m\u001b[0;32m   1136\u001b[0m         \u001b[1;32melse\u001b[0m\u001b[1;33m:\u001b[0m\u001b[1;33m\u001b[0m\u001b[1;33m\u001b[0m\u001b[0m\n\u001b[0;32m   1137\u001b[0m             \u001b[1;32mif\u001b[0m \u001b[0mengine\u001b[0m \u001b[1;33m==\u001b[0m \u001b[1;34m\"python\"\u001b[0m\u001b[1;33m:\u001b[0m\u001b[1;33m\u001b[0m\u001b[1;33m\u001b[0m\u001b[0m\n",
      "\u001b[1;32mC:\\ProgramData\\Anaconda3\\lib\\site-packages\\pandas\\io\\parsers.py\u001b[0m in \u001b[0;36m__init__\u001b[1;34m(self, src, **kwds)\u001b[0m\n\u001b[0;32m   1915\u001b[0m         \u001b[0mkwds\u001b[0m\u001b[1;33m[\u001b[0m\u001b[1;34m\"usecols\"\u001b[0m\u001b[1;33m]\u001b[0m \u001b[1;33m=\u001b[0m \u001b[0mself\u001b[0m\u001b[1;33m.\u001b[0m\u001b[0musecols\u001b[0m\u001b[1;33m\u001b[0m\u001b[1;33m\u001b[0m\u001b[0m\n\u001b[0;32m   1916\u001b[0m \u001b[1;33m\u001b[0m\u001b[0m\n\u001b[1;32m-> 1917\u001b[1;33m         \u001b[0mself\u001b[0m\u001b[1;33m.\u001b[0m\u001b[0m_reader\u001b[0m \u001b[1;33m=\u001b[0m \u001b[0mparsers\u001b[0m\u001b[1;33m.\u001b[0m\u001b[0mTextReader\u001b[0m\u001b[1;33m(\u001b[0m\u001b[0msrc\u001b[0m\u001b[1;33m,\u001b[0m \u001b[1;33m**\u001b[0m\u001b[0mkwds\u001b[0m\u001b[1;33m)\u001b[0m\u001b[1;33m\u001b[0m\u001b[1;33m\u001b[0m\u001b[0m\n\u001b[0m\u001b[0;32m   1918\u001b[0m         \u001b[0mself\u001b[0m\u001b[1;33m.\u001b[0m\u001b[0munnamed_cols\u001b[0m \u001b[1;33m=\u001b[0m \u001b[0mself\u001b[0m\u001b[1;33m.\u001b[0m\u001b[0m_reader\u001b[0m\u001b[1;33m.\u001b[0m\u001b[0munnamed_cols\u001b[0m\u001b[1;33m\u001b[0m\u001b[1;33m\u001b[0m\u001b[0m\n\u001b[0;32m   1919\u001b[0m \u001b[1;33m\u001b[0m\u001b[0m\n",
      "\u001b[1;32mpandas\\_libs\\parsers.pyx\u001b[0m in \u001b[0;36mpandas._libs.parsers.TextReader.__cinit__\u001b[1;34m()\u001b[0m\n",
      "\u001b[1;32mpandas\\_libs\\parsers.pyx\u001b[0m in \u001b[0;36mpandas._libs.parsers.TextReader._setup_parser_source\u001b[1;34m()\u001b[0m\n",
      "\u001b[1;31mFileNotFoundError\u001b[0m: [Errno 2] File b'bhcf1312.txt' does not exist: b'bhcf1312.txt'"
     ]
    }
   ],
   "source": [
    "df_bhc2013 = pd.read_csv(\"bhcf1312.txt\", sep=\"^\", nrows=1300, low_memory=False)\n",
    "#print(df_bhc2013.head(5)[\"RSSD9001\"])\n",
    "tempdf = df_bhc2013[(df_bhc2013[\"RSSD9017\"].str.contains(\"JP\")==True)]\n",
    "tempdf = tempdf[[\"RSSD9017\", \"RSSD9001\", \"BHC02170\", \"BHC22170\", \"BHC52170\", \"BHC92170\", \"BHCE2170\"]]\n",
    "tempdf1 = tempdf[[\"BHC02170\", \"BHC22170\", \"BHC52170\", \"BHC92170\"]]\n",
    "print(tempdf1)"
   ]
  }
 ],
 "metadata": {
  "kernelspec": {
   "display_name": "Python 3",
   "language": "python",
   "name": "python3"
  },
  "language_info": {
   "codemirror_mode": {
    "name": "ipython",
    "version": 3
   },
   "file_extension": ".py",
   "mimetype": "text/x-python",
   "name": "python",
   "nbconvert_exporter": "python",
   "pygments_lexer": "ipython3",
   "version": "3.7.4"
  }
 },
 "nbformat": 4,
 "nbformat_minor": 2
}
